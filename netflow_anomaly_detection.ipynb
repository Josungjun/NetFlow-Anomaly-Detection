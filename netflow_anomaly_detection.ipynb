{
  "cells": [
    {
      "cell_type": "markdown",
      "metadata": {
        "id": "gUZnFWQlwXtt"
      },
      "source": [
        "# project2의 skeleton 코드입니다."
      ]
    },
    {
      "cell_type": "code",
      "execution_count": 1,
      "metadata": {
        "id": "rY5Adez8HDTz"
      },
      "outputs": [],
      "source": [
        "import pandas as pd\n",
        "import numpy as np"
      ]
    },
    {
      "cell_type": "code",
      "execution_count": 2,
      "metadata": {
        "id": "H-JT2ifkwXtx"
      },
      "outputs": [],
      "source": [
        "import pickle\n",
        "\n",
        "def open_pickle(path: str):\n",
        "    with open(path, 'rb') as f:\n",
        "        target = pickle.load(f)\n",
        "    return target"
      ]
    },
    {
      "cell_type": "markdown",
      "metadata": {
        "id": "EyDy8yAtHDT2"
      },
      "source": [
        "## 1. train, valid 데이터 셋 불러오기"
      ]
    },
    {
      "cell_type": "code",
      "source": [
        "from google.colab import drive\n",
        "drive.mount('/content/drive/')"
      ],
      "metadata": {
        "colab": {
          "base_uri": "https://localhost:8080/"
        },
        "id": "rYt31Cj_w83T",
        "outputId": "d14e6b4d-cdd0-4408-b9ec-59e13191e328"
      },
      "execution_count": 3,
      "outputs": [
        {
          "output_type": "stream",
          "name": "stdout",
          "text": [
            "Mounted at /content/drive/\n"
          ]
        }
      ]
    },
    {
      "cell_type": "code",
      "source": [
        "%cd \"/content/drive/MyDrive/정보보호와시스템보안\""
      ],
      "metadata": {
        "colab": {
          "base_uri": "https://localhost:8080/"
        },
        "id": "-l642op-xca_",
        "outputId": "86c1c24b-e0d5-481c-d1da-9cd019f66768"
      },
      "execution_count": 4,
      "outputs": [
        {
          "output_type": "stream",
          "name": "stdout",
          "text": [
            "/content/drive/MyDrive/정보보호와시스템보안\n"
          ]
        }
      ]
    },
    {
      "cell_type": "code",
      "execution_count": 5,
      "metadata": {
        "id": "KfaBhPp_HDT3"
      },
      "outputs": [],
      "source": [
        "train_path = r\"./train.csv\"\n",
        "valid_path = r\"./test.csv\"\n",
        "\n",
        "train_df = pd.read_csv(train_path)\n",
        "valid_df = pd.read_csv(valid_path)"
      ]
    },
    {
      "cell_type": "code",
      "execution_count": 6,
      "metadata": {
        "colab": {
          "base_uri": "https://localhost:8080/",
          "height": 253
        },
        "collapsed": true,
        "id": "CqTi-456wXtz",
        "outputId": "0992fb5f-25fb-42d1-c23a-423e9f2d0f66"
      },
      "outputs": [
        {
          "output_type": "execute_result",
          "data": {
            "text/plain": [
              "           Src IP  Src Port         Dst IP  Dst Port Protocol     Flags  \\\n",
              "0   21.122.91.166     13850  30.239.23.122        53      TCP  ......S.   \n",
              "1   21.122.91.166     43842  30.239.23.122        53      TCP  ......S.   \n",
              "2   21.122.91.165     25918  30.239.23.122        53      TCP  ......S.   \n",
              "3  173.123.45.117      4445  30.239.23.122        53      TCP  ...A...F   \n",
              "4   21.122.91.165     28467  30.239.23.122        53      TCP  ......S.   \n",
              "\n",
              "  Timestamp  Flow Duration  Total Fwd Packet  Total Bwd packets  ...  \\\n",
              "0  03:52:00        3119967                 3                  0  ...   \n",
              "1  03:37:20        2991830                 3                  0  ...   \n",
              "2  03:10:28        3004658                 3                  0  ...   \n",
              "3  00:42:24        4402645                 2                  1  ...   \n",
              "4  02:45:28        3001784                 3                  0  ...   \n",
              "\n",
              "   Fwd Seg Size Min  Active Mean  Active Std  Active Max  Active Min  \\\n",
              "0                40          0.0         0.0         0.0         0.0   \n",
              "1                40          0.0         0.0         0.0         0.0   \n",
              "2                40          0.0         0.0         0.0         0.0   \n",
              "3                20          0.0         0.0         0.0         0.0   \n",
              "4                40          0.0         0.0         0.0         0.0   \n",
              "\n",
              "   Idle Mean  Idle Std  Idle Max  Idle Min      Label  \n",
              "0        0.0       0.0       0.0       0.0  Benign_IP  \n",
              "1        0.0       0.0       0.0       0.0  Benign_IP  \n",
              "2        0.0       0.0       0.0       0.0  Benign_IP  \n",
              "3        0.0       0.0       0.0       0.0  Benign_IP  \n",
              "4        0.0       0.0       0.0       0.0  Benign_IP  \n",
              "\n",
              "[5 rows x 54 columns]"
            ],
            "text/html": [
              "\n",
              "  <div id=\"df-1b93dda4-d945-4d94-9684-b87061968c60\" class=\"colab-df-container\">\n",
              "    <div>\n",
              "<style scoped>\n",
              "    .dataframe tbody tr th:only-of-type {\n",
              "        vertical-align: middle;\n",
              "    }\n",
              "\n",
              "    .dataframe tbody tr th {\n",
              "        vertical-align: top;\n",
              "    }\n",
              "\n",
              "    .dataframe thead th {\n",
              "        text-align: right;\n",
              "    }\n",
              "</style>\n",
              "<table border=\"1\" class=\"dataframe\">\n",
              "  <thead>\n",
              "    <tr style=\"text-align: right;\">\n",
              "      <th></th>\n",
              "      <th>Src IP</th>\n",
              "      <th>Src Port</th>\n",
              "      <th>Dst IP</th>\n",
              "      <th>Dst Port</th>\n",
              "      <th>Protocol</th>\n",
              "      <th>Flags</th>\n",
              "      <th>Timestamp</th>\n",
              "      <th>Flow Duration</th>\n",
              "      <th>Total Fwd Packet</th>\n",
              "      <th>Total Bwd packets</th>\n",
              "      <th>...</th>\n",
              "      <th>Fwd Seg Size Min</th>\n",
              "      <th>Active Mean</th>\n",
              "      <th>Active Std</th>\n",
              "      <th>Active Max</th>\n",
              "      <th>Active Min</th>\n",
              "      <th>Idle Mean</th>\n",
              "      <th>Idle Std</th>\n",
              "      <th>Idle Max</th>\n",
              "      <th>Idle Min</th>\n",
              "      <th>Label</th>\n",
              "    </tr>\n",
              "  </thead>\n",
              "  <tbody>\n",
              "    <tr>\n",
              "      <th>0</th>\n",
              "      <td>21.122.91.166</td>\n",
              "      <td>13850</td>\n",
              "      <td>30.239.23.122</td>\n",
              "      <td>53</td>\n",
              "      <td>TCP</td>\n",
              "      <td>......S.</td>\n",
              "      <td>03:52:00</td>\n",
              "      <td>3119967</td>\n",
              "      <td>3</td>\n",
              "      <td>0</td>\n",
              "      <td>...</td>\n",
              "      <td>40</td>\n",
              "      <td>0.0</td>\n",
              "      <td>0.0</td>\n",
              "      <td>0.0</td>\n",
              "      <td>0.0</td>\n",
              "      <td>0.0</td>\n",
              "      <td>0.0</td>\n",
              "      <td>0.0</td>\n",
              "      <td>0.0</td>\n",
              "      <td>Benign_IP</td>\n",
              "    </tr>\n",
              "    <tr>\n",
              "      <th>1</th>\n",
              "      <td>21.122.91.166</td>\n",
              "      <td>43842</td>\n",
              "      <td>30.239.23.122</td>\n",
              "      <td>53</td>\n",
              "      <td>TCP</td>\n",
              "      <td>......S.</td>\n",
              "      <td>03:37:20</td>\n",
              "      <td>2991830</td>\n",
              "      <td>3</td>\n",
              "      <td>0</td>\n",
              "      <td>...</td>\n",
              "      <td>40</td>\n",
              "      <td>0.0</td>\n",
              "      <td>0.0</td>\n",
              "      <td>0.0</td>\n",
              "      <td>0.0</td>\n",
              "      <td>0.0</td>\n",
              "      <td>0.0</td>\n",
              "      <td>0.0</td>\n",
              "      <td>0.0</td>\n",
              "      <td>Benign_IP</td>\n",
              "    </tr>\n",
              "    <tr>\n",
              "      <th>2</th>\n",
              "      <td>21.122.91.165</td>\n",
              "      <td>25918</td>\n",
              "      <td>30.239.23.122</td>\n",
              "      <td>53</td>\n",
              "      <td>TCP</td>\n",
              "      <td>......S.</td>\n",
              "      <td>03:10:28</td>\n",
              "      <td>3004658</td>\n",
              "      <td>3</td>\n",
              "      <td>0</td>\n",
              "      <td>...</td>\n",
              "      <td>40</td>\n",
              "      <td>0.0</td>\n",
              "      <td>0.0</td>\n",
              "      <td>0.0</td>\n",
              "      <td>0.0</td>\n",
              "      <td>0.0</td>\n",
              "      <td>0.0</td>\n",
              "      <td>0.0</td>\n",
              "      <td>0.0</td>\n",
              "      <td>Benign_IP</td>\n",
              "    </tr>\n",
              "    <tr>\n",
              "      <th>3</th>\n",
              "      <td>173.123.45.117</td>\n",
              "      <td>4445</td>\n",
              "      <td>30.239.23.122</td>\n",
              "      <td>53</td>\n",
              "      <td>TCP</td>\n",
              "      <td>...A...F</td>\n",
              "      <td>00:42:24</td>\n",
              "      <td>4402645</td>\n",
              "      <td>2</td>\n",
              "      <td>1</td>\n",
              "      <td>...</td>\n",
              "      <td>20</td>\n",
              "      <td>0.0</td>\n",
              "      <td>0.0</td>\n",
              "      <td>0.0</td>\n",
              "      <td>0.0</td>\n",
              "      <td>0.0</td>\n",
              "      <td>0.0</td>\n",
              "      <td>0.0</td>\n",
              "      <td>0.0</td>\n",
              "      <td>Benign_IP</td>\n",
              "    </tr>\n",
              "    <tr>\n",
              "      <th>4</th>\n",
              "      <td>21.122.91.165</td>\n",
              "      <td>28467</td>\n",
              "      <td>30.239.23.122</td>\n",
              "      <td>53</td>\n",
              "      <td>TCP</td>\n",
              "      <td>......S.</td>\n",
              "      <td>02:45:28</td>\n",
              "      <td>3001784</td>\n",
              "      <td>3</td>\n",
              "      <td>0</td>\n",
              "      <td>...</td>\n",
              "      <td>40</td>\n",
              "      <td>0.0</td>\n",
              "      <td>0.0</td>\n",
              "      <td>0.0</td>\n",
              "      <td>0.0</td>\n",
              "      <td>0.0</td>\n",
              "      <td>0.0</td>\n",
              "      <td>0.0</td>\n",
              "      <td>0.0</td>\n",
              "      <td>Benign_IP</td>\n",
              "    </tr>\n",
              "  </tbody>\n",
              "</table>\n",
              "<p>5 rows × 54 columns</p>\n",
              "</div>\n",
              "    <div class=\"colab-df-buttons\">\n",
              "\n",
              "  <div class=\"colab-df-container\">\n",
              "    <button class=\"colab-df-convert\" onclick=\"convertToInteractive('df-1b93dda4-d945-4d94-9684-b87061968c60')\"\n",
              "            title=\"Convert this dataframe to an interactive table.\"\n",
              "            style=\"display:none;\">\n",
              "\n",
              "  <svg xmlns=\"http://www.w3.org/2000/svg\" height=\"24px\" viewBox=\"0 -960 960 960\">\n",
              "    <path d=\"M120-120v-720h720v720H120Zm60-500h600v-160H180v160Zm220 220h160v-160H400v160Zm0 220h160v-160H400v160ZM180-400h160v-160H180v160Zm440 0h160v-160H620v160ZM180-180h160v-160H180v160Zm440 0h160v-160H620v160Z\"/>\n",
              "  </svg>\n",
              "    </button>\n",
              "\n",
              "  <style>\n",
              "    .colab-df-container {\n",
              "      display:flex;\n",
              "      gap: 12px;\n",
              "    }\n",
              "\n",
              "    .colab-df-convert {\n",
              "      background-color: #E8F0FE;\n",
              "      border: none;\n",
              "      border-radius: 50%;\n",
              "      cursor: pointer;\n",
              "      display: none;\n",
              "      fill: #1967D2;\n",
              "      height: 32px;\n",
              "      padding: 0 0 0 0;\n",
              "      width: 32px;\n",
              "    }\n",
              "\n",
              "    .colab-df-convert:hover {\n",
              "      background-color: #E2EBFA;\n",
              "      box-shadow: 0px 1px 2px rgba(60, 64, 67, 0.3), 0px 1px 3px 1px rgba(60, 64, 67, 0.15);\n",
              "      fill: #174EA6;\n",
              "    }\n",
              "\n",
              "    .colab-df-buttons div {\n",
              "      margin-bottom: 4px;\n",
              "    }\n",
              "\n",
              "    [theme=dark] .colab-df-convert {\n",
              "      background-color: #3B4455;\n",
              "      fill: #D2E3FC;\n",
              "    }\n",
              "\n",
              "    [theme=dark] .colab-df-convert:hover {\n",
              "      background-color: #434B5C;\n",
              "      box-shadow: 0px 1px 3px 1px rgba(0, 0, 0, 0.15);\n",
              "      filter: drop-shadow(0px 1px 2px rgba(0, 0, 0, 0.3));\n",
              "      fill: #FFFFFF;\n",
              "    }\n",
              "  </style>\n",
              "\n",
              "    <script>\n",
              "      const buttonEl =\n",
              "        document.querySelector('#df-1b93dda4-d945-4d94-9684-b87061968c60 button.colab-df-convert');\n",
              "      buttonEl.style.display =\n",
              "        google.colab.kernel.accessAllowed ? 'block' : 'none';\n",
              "\n",
              "      async function convertToInteractive(key) {\n",
              "        const element = document.querySelector('#df-1b93dda4-d945-4d94-9684-b87061968c60');\n",
              "        const dataTable =\n",
              "          await google.colab.kernel.invokeFunction('convertToInteractive',\n",
              "                                                    [key], {});\n",
              "        if (!dataTable) return;\n",
              "\n",
              "        const docLinkHtml = 'Like what you see? Visit the ' +\n",
              "          '<a target=\"_blank\" href=https://colab.research.google.com/notebooks/data_table.ipynb>data table notebook</a>'\n",
              "          + ' to learn more about interactive tables.';\n",
              "        element.innerHTML = '';\n",
              "        dataTable['output_type'] = 'display_data';\n",
              "        await google.colab.output.renderOutput(dataTable, element);\n",
              "        const docLink = document.createElement('div');\n",
              "        docLink.innerHTML = docLinkHtml;\n",
              "        element.appendChild(docLink);\n",
              "      }\n",
              "    </script>\n",
              "  </div>\n",
              "\n",
              "\n",
              "<div id=\"df-daf376fe-e4be-4232-9c75-7ce1032b3687\">\n",
              "  <button class=\"colab-df-quickchart\" onclick=\"quickchart('df-daf376fe-e4be-4232-9c75-7ce1032b3687')\"\n",
              "            title=\"Suggest charts\"\n",
              "            style=\"display:none;\">\n",
              "\n",
              "<svg xmlns=\"http://www.w3.org/2000/svg\" height=\"24px\"viewBox=\"0 0 24 24\"\n",
              "     width=\"24px\">\n",
              "    <g>\n",
              "        <path d=\"M19 3H5c-1.1 0-2 .9-2 2v14c0 1.1.9 2 2 2h14c1.1 0 2-.9 2-2V5c0-1.1-.9-2-2-2zM9 17H7v-7h2v7zm4 0h-2V7h2v10zm4 0h-2v-4h2v4z\"/>\n",
              "    </g>\n",
              "</svg>\n",
              "  </button>\n",
              "\n",
              "<style>\n",
              "  .colab-df-quickchart {\n",
              "      --bg-color: #E8F0FE;\n",
              "      --fill-color: #1967D2;\n",
              "      --hover-bg-color: #E2EBFA;\n",
              "      --hover-fill-color: #174EA6;\n",
              "      --disabled-fill-color: #AAA;\n",
              "      --disabled-bg-color: #DDD;\n",
              "  }\n",
              "\n",
              "  [theme=dark] .colab-df-quickchart {\n",
              "      --bg-color: #3B4455;\n",
              "      --fill-color: #D2E3FC;\n",
              "      --hover-bg-color: #434B5C;\n",
              "      --hover-fill-color: #FFFFFF;\n",
              "      --disabled-bg-color: #3B4455;\n",
              "      --disabled-fill-color: #666;\n",
              "  }\n",
              "\n",
              "  .colab-df-quickchart {\n",
              "    background-color: var(--bg-color);\n",
              "    border: none;\n",
              "    border-radius: 50%;\n",
              "    cursor: pointer;\n",
              "    display: none;\n",
              "    fill: var(--fill-color);\n",
              "    height: 32px;\n",
              "    padding: 0;\n",
              "    width: 32px;\n",
              "  }\n",
              "\n",
              "  .colab-df-quickchart:hover {\n",
              "    background-color: var(--hover-bg-color);\n",
              "    box-shadow: 0 1px 2px rgba(60, 64, 67, 0.3), 0 1px 3px 1px rgba(60, 64, 67, 0.15);\n",
              "    fill: var(--button-hover-fill-color);\n",
              "  }\n",
              "\n",
              "  .colab-df-quickchart-complete:disabled,\n",
              "  .colab-df-quickchart-complete:disabled:hover {\n",
              "    background-color: var(--disabled-bg-color);\n",
              "    fill: var(--disabled-fill-color);\n",
              "    box-shadow: none;\n",
              "  }\n",
              "\n",
              "  .colab-df-spinner {\n",
              "    border: 2px solid var(--fill-color);\n",
              "    border-color: transparent;\n",
              "    border-bottom-color: var(--fill-color);\n",
              "    animation:\n",
              "      spin 1s steps(1) infinite;\n",
              "  }\n",
              "\n",
              "  @keyframes spin {\n",
              "    0% {\n",
              "      border-color: transparent;\n",
              "      border-bottom-color: var(--fill-color);\n",
              "      border-left-color: var(--fill-color);\n",
              "    }\n",
              "    20% {\n",
              "      border-color: transparent;\n",
              "      border-left-color: var(--fill-color);\n",
              "      border-top-color: var(--fill-color);\n",
              "    }\n",
              "    30% {\n",
              "      border-color: transparent;\n",
              "      border-left-color: var(--fill-color);\n",
              "      border-top-color: var(--fill-color);\n",
              "      border-right-color: var(--fill-color);\n",
              "    }\n",
              "    40% {\n",
              "      border-color: transparent;\n",
              "      border-right-color: var(--fill-color);\n",
              "      border-top-color: var(--fill-color);\n",
              "    }\n",
              "    60% {\n",
              "      border-color: transparent;\n",
              "      border-right-color: var(--fill-color);\n",
              "    }\n",
              "    80% {\n",
              "      border-color: transparent;\n",
              "      border-right-color: var(--fill-color);\n",
              "      border-bottom-color: var(--fill-color);\n",
              "    }\n",
              "    90% {\n",
              "      border-color: transparent;\n",
              "      border-bottom-color: var(--fill-color);\n",
              "    }\n",
              "  }\n",
              "</style>\n",
              "\n",
              "  <script>\n",
              "    async function quickchart(key) {\n",
              "      const quickchartButtonEl =\n",
              "        document.querySelector('#' + key + ' button');\n",
              "      quickchartButtonEl.disabled = true;  // To prevent multiple clicks.\n",
              "      quickchartButtonEl.classList.add('colab-df-spinner');\n",
              "      try {\n",
              "        const charts = await google.colab.kernel.invokeFunction(\n",
              "            'suggestCharts', [key], {});\n",
              "      } catch (error) {\n",
              "        console.error('Error during call to suggestCharts:', error);\n",
              "      }\n",
              "      quickchartButtonEl.classList.remove('colab-df-spinner');\n",
              "      quickchartButtonEl.classList.add('colab-df-quickchart-complete');\n",
              "    }\n",
              "    (() => {\n",
              "      let quickchartButtonEl =\n",
              "        document.querySelector('#df-daf376fe-e4be-4232-9c75-7ce1032b3687 button');\n",
              "      quickchartButtonEl.style.display =\n",
              "        google.colab.kernel.accessAllowed ? 'block' : 'none';\n",
              "    })();\n",
              "  </script>\n",
              "</div>\n",
              "\n",
              "    </div>\n",
              "  </div>\n"
            ],
            "application/vnd.google.colaboratory.intrinsic+json": {
              "type": "dataframe",
              "variable_name": "train_df"
            }
          },
          "metadata": {},
          "execution_count": 6
        }
      ],
      "source": [
        "train_df.head()"
      ]
    },
    {
      "cell_type": "code",
      "execution_count": 7,
      "metadata": {
        "colab": {
          "base_uri": "https://localhost:8080/",
          "height": 253
        },
        "id": "eSeXXPIewXt0",
        "outputId": "23f7ae29-5ea2-46c4-d3ce-4289dd473c1c"
      },
      "outputs": [
        {
          "output_type": "execute_result",
          "data": {
            "text/plain": [
              "          Src IP  Src Port         Dst IP  Dst Port Protocol     Flags  \\\n",
              "0  21.122.91.166     23801  30.239.23.122        53      TCP  ......S.   \n",
              "1  21.122.91.166     28413  30.239.23.122        53      TCP  ......S.   \n",
              "2  21.122.91.166     49550  30.239.23.122        53      TCP  ......S.   \n",
              "3  21.122.91.166     38373  30.239.23.122        53      TCP  ......S.   \n",
              "4  21.122.91.165      8805  30.239.23.122        53      TCP  ......S.   \n",
              "\n",
              "  Timestamp  Flow Duration  Total Fwd Packet  Total Bwd packets  ...  \\\n",
              "0  03:33:43        2987074                 3                  0  ...   \n",
              "1  03:32:49        2977944                 3                  0  ...   \n",
              "2  04:23:46        2995375                 3                  0  ...   \n",
              "3  04:28:08        3003635                 3                  0  ...   \n",
              "4  03:46:39        3006388                 3                  0  ...   \n",
              "\n",
              "   Fwd Seg Size Min  Active Mean  Active Std  Active Max  Active Min  \\\n",
              "0                40          0.0         0.0         0.0         0.0   \n",
              "1                40          0.0         0.0         0.0         0.0   \n",
              "2                40          0.0         0.0         0.0         0.0   \n",
              "3                40          0.0         0.0         0.0         0.0   \n",
              "4                40          0.0         0.0         0.0         0.0   \n",
              "\n",
              "   Idle Mean  Idle Std  Idle Max  Idle Min      Label  \n",
              "0        0.0       0.0       0.0       0.0  Benign_IP  \n",
              "1        0.0       0.0       0.0       0.0  Benign_IP  \n",
              "2        0.0       0.0       0.0       0.0  Benign_IP  \n",
              "3        0.0       0.0       0.0       0.0  Benign_IP  \n",
              "4        0.0       0.0       0.0       0.0  Benign_IP  \n",
              "\n",
              "[5 rows x 54 columns]"
            ],
            "text/html": [
              "\n",
              "  <div id=\"df-328abfc8-9338-4b46-8e96-0c3fa1afdffd\" class=\"colab-df-container\">\n",
              "    <div>\n",
              "<style scoped>\n",
              "    .dataframe tbody tr th:only-of-type {\n",
              "        vertical-align: middle;\n",
              "    }\n",
              "\n",
              "    .dataframe tbody tr th {\n",
              "        vertical-align: top;\n",
              "    }\n",
              "\n",
              "    .dataframe thead th {\n",
              "        text-align: right;\n",
              "    }\n",
              "</style>\n",
              "<table border=\"1\" class=\"dataframe\">\n",
              "  <thead>\n",
              "    <tr style=\"text-align: right;\">\n",
              "      <th></th>\n",
              "      <th>Src IP</th>\n",
              "      <th>Src Port</th>\n",
              "      <th>Dst IP</th>\n",
              "      <th>Dst Port</th>\n",
              "      <th>Protocol</th>\n",
              "      <th>Flags</th>\n",
              "      <th>Timestamp</th>\n",
              "      <th>Flow Duration</th>\n",
              "      <th>Total Fwd Packet</th>\n",
              "      <th>Total Bwd packets</th>\n",
              "      <th>...</th>\n",
              "      <th>Fwd Seg Size Min</th>\n",
              "      <th>Active Mean</th>\n",
              "      <th>Active Std</th>\n",
              "      <th>Active Max</th>\n",
              "      <th>Active Min</th>\n",
              "      <th>Idle Mean</th>\n",
              "      <th>Idle Std</th>\n",
              "      <th>Idle Max</th>\n",
              "      <th>Idle Min</th>\n",
              "      <th>Label</th>\n",
              "    </tr>\n",
              "  </thead>\n",
              "  <tbody>\n",
              "    <tr>\n",
              "      <th>0</th>\n",
              "      <td>21.122.91.166</td>\n",
              "      <td>23801</td>\n",
              "      <td>30.239.23.122</td>\n",
              "      <td>53</td>\n",
              "      <td>TCP</td>\n",
              "      <td>......S.</td>\n",
              "      <td>03:33:43</td>\n",
              "      <td>2987074</td>\n",
              "      <td>3</td>\n",
              "      <td>0</td>\n",
              "      <td>...</td>\n",
              "      <td>40</td>\n",
              "      <td>0.0</td>\n",
              "      <td>0.0</td>\n",
              "      <td>0.0</td>\n",
              "      <td>0.0</td>\n",
              "      <td>0.0</td>\n",
              "      <td>0.0</td>\n",
              "      <td>0.0</td>\n",
              "      <td>0.0</td>\n",
              "      <td>Benign_IP</td>\n",
              "    </tr>\n",
              "    <tr>\n",
              "      <th>1</th>\n",
              "      <td>21.122.91.166</td>\n",
              "      <td>28413</td>\n",
              "      <td>30.239.23.122</td>\n",
              "      <td>53</td>\n",
              "      <td>TCP</td>\n",
              "      <td>......S.</td>\n",
              "      <td>03:32:49</td>\n",
              "      <td>2977944</td>\n",
              "      <td>3</td>\n",
              "      <td>0</td>\n",
              "      <td>...</td>\n",
              "      <td>40</td>\n",
              "      <td>0.0</td>\n",
              "      <td>0.0</td>\n",
              "      <td>0.0</td>\n",
              "      <td>0.0</td>\n",
              "      <td>0.0</td>\n",
              "      <td>0.0</td>\n",
              "      <td>0.0</td>\n",
              "      <td>0.0</td>\n",
              "      <td>Benign_IP</td>\n",
              "    </tr>\n",
              "    <tr>\n",
              "      <th>2</th>\n",
              "      <td>21.122.91.166</td>\n",
              "      <td>49550</td>\n",
              "      <td>30.239.23.122</td>\n",
              "      <td>53</td>\n",
              "      <td>TCP</td>\n",
              "      <td>......S.</td>\n",
              "      <td>04:23:46</td>\n",
              "      <td>2995375</td>\n",
              "      <td>3</td>\n",
              "      <td>0</td>\n",
              "      <td>...</td>\n",
              "      <td>40</td>\n",
              "      <td>0.0</td>\n",
              "      <td>0.0</td>\n",
              "      <td>0.0</td>\n",
              "      <td>0.0</td>\n",
              "      <td>0.0</td>\n",
              "      <td>0.0</td>\n",
              "      <td>0.0</td>\n",
              "      <td>0.0</td>\n",
              "      <td>Benign_IP</td>\n",
              "    </tr>\n",
              "    <tr>\n",
              "      <th>3</th>\n",
              "      <td>21.122.91.166</td>\n",
              "      <td>38373</td>\n",
              "      <td>30.239.23.122</td>\n",
              "      <td>53</td>\n",
              "      <td>TCP</td>\n",
              "      <td>......S.</td>\n",
              "      <td>04:28:08</td>\n",
              "      <td>3003635</td>\n",
              "      <td>3</td>\n",
              "      <td>0</td>\n",
              "      <td>...</td>\n",
              "      <td>40</td>\n",
              "      <td>0.0</td>\n",
              "      <td>0.0</td>\n",
              "      <td>0.0</td>\n",
              "      <td>0.0</td>\n",
              "      <td>0.0</td>\n",
              "      <td>0.0</td>\n",
              "      <td>0.0</td>\n",
              "      <td>0.0</td>\n",
              "      <td>Benign_IP</td>\n",
              "    </tr>\n",
              "    <tr>\n",
              "      <th>4</th>\n",
              "      <td>21.122.91.165</td>\n",
              "      <td>8805</td>\n",
              "      <td>30.239.23.122</td>\n",
              "      <td>53</td>\n",
              "      <td>TCP</td>\n",
              "      <td>......S.</td>\n",
              "      <td>03:46:39</td>\n",
              "      <td>3006388</td>\n",
              "      <td>3</td>\n",
              "      <td>0</td>\n",
              "      <td>...</td>\n",
              "      <td>40</td>\n",
              "      <td>0.0</td>\n",
              "      <td>0.0</td>\n",
              "      <td>0.0</td>\n",
              "      <td>0.0</td>\n",
              "      <td>0.0</td>\n",
              "      <td>0.0</td>\n",
              "      <td>0.0</td>\n",
              "      <td>0.0</td>\n",
              "      <td>Benign_IP</td>\n",
              "    </tr>\n",
              "  </tbody>\n",
              "</table>\n",
              "<p>5 rows × 54 columns</p>\n",
              "</div>\n",
              "    <div class=\"colab-df-buttons\">\n",
              "\n",
              "  <div class=\"colab-df-container\">\n",
              "    <button class=\"colab-df-convert\" onclick=\"convertToInteractive('df-328abfc8-9338-4b46-8e96-0c3fa1afdffd')\"\n",
              "            title=\"Convert this dataframe to an interactive table.\"\n",
              "            style=\"display:none;\">\n",
              "\n",
              "  <svg xmlns=\"http://www.w3.org/2000/svg\" height=\"24px\" viewBox=\"0 -960 960 960\">\n",
              "    <path d=\"M120-120v-720h720v720H120Zm60-500h600v-160H180v160Zm220 220h160v-160H400v160Zm0 220h160v-160H400v160ZM180-400h160v-160H180v160Zm440 0h160v-160H620v160ZM180-180h160v-160H180v160Zm440 0h160v-160H620v160Z\"/>\n",
              "  </svg>\n",
              "    </button>\n",
              "\n",
              "  <style>\n",
              "    .colab-df-container {\n",
              "      display:flex;\n",
              "      gap: 12px;\n",
              "    }\n",
              "\n",
              "    .colab-df-convert {\n",
              "      background-color: #E8F0FE;\n",
              "      border: none;\n",
              "      border-radius: 50%;\n",
              "      cursor: pointer;\n",
              "      display: none;\n",
              "      fill: #1967D2;\n",
              "      height: 32px;\n",
              "      padding: 0 0 0 0;\n",
              "      width: 32px;\n",
              "    }\n",
              "\n",
              "    .colab-df-convert:hover {\n",
              "      background-color: #E2EBFA;\n",
              "      box-shadow: 0px 1px 2px rgba(60, 64, 67, 0.3), 0px 1px 3px 1px rgba(60, 64, 67, 0.15);\n",
              "      fill: #174EA6;\n",
              "    }\n",
              "\n",
              "    .colab-df-buttons div {\n",
              "      margin-bottom: 4px;\n",
              "    }\n",
              "\n",
              "    [theme=dark] .colab-df-convert {\n",
              "      background-color: #3B4455;\n",
              "      fill: #D2E3FC;\n",
              "    }\n",
              "\n",
              "    [theme=dark] .colab-df-convert:hover {\n",
              "      background-color: #434B5C;\n",
              "      box-shadow: 0px 1px 3px 1px rgba(0, 0, 0, 0.15);\n",
              "      filter: drop-shadow(0px 1px 2px rgba(0, 0, 0, 0.3));\n",
              "      fill: #FFFFFF;\n",
              "    }\n",
              "  </style>\n",
              "\n",
              "    <script>\n",
              "      const buttonEl =\n",
              "        document.querySelector('#df-328abfc8-9338-4b46-8e96-0c3fa1afdffd button.colab-df-convert');\n",
              "      buttonEl.style.display =\n",
              "        google.colab.kernel.accessAllowed ? 'block' : 'none';\n",
              "\n",
              "      async function convertToInteractive(key) {\n",
              "        const element = document.querySelector('#df-328abfc8-9338-4b46-8e96-0c3fa1afdffd');\n",
              "        const dataTable =\n",
              "          await google.colab.kernel.invokeFunction('convertToInteractive',\n",
              "                                                    [key], {});\n",
              "        if (!dataTable) return;\n",
              "\n",
              "        const docLinkHtml = 'Like what you see? Visit the ' +\n",
              "          '<a target=\"_blank\" href=https://colab.research.google.com/notebooks/data_table.ipynb>data table notebook</a>'\n",
              "          + ' to learn more about interactive tables.';\n",
              "        element.innerHTML = '';\n",
              "        dataTable['output_type'] = 'display_data';\n",
              "        await google.colab.output.renderOutput(dataTable, element);\n",
              "        const docLink = document.createElement('div');\n",
              "        docLink.innerHTML = docLinkHtml;\n",
              "        element.appendChild(docLink);\n",
              "      }\n",
              "    </script>\n",
              "  </div>\n",
              "\n",
              "\n",
              "<div id=\"df-891259b0-70d9-49d0-ac07-1c88ece38a5c\">\n",
              "  <button class=\"colab-df-quickchart\" onclick=\"quickchart('df-891259b0-70d9-49d0-ac07-1c88ece38a5c')\"\n",
              "            title=\"Suggest charts\"\n",
              "            style=\"display:none;\">\n",
              "\n",
              "<svg xmlns=\"http://www.w3.org/2000/svg\" height=\"24px\"viewBox=\"0 0 24 24\"\n",
              "     width=\"24px\">\n",
              "    <g>\n",
              "        <path d=\"M19 3H5c-1.1 0-2 .9-2 2v14c0 1.1.9 2 2 2h14c1.1 0 2-.9 2-2V5c0-1.1-.9-2-2-2zM9 17H7v-7h2v7zm4 0h-2V7h2v10zm4 0h-2v-4h2v4z\"/>\n",
              "    </g>\n",
              "</svg>\n",
              "  </button>\n",
              "\n",
              "<style>\n",
              "  .colab-df-quickchart {\n",
              "      --bg-color: #E8F0FE;\n",
              "      --fill-color: #1967D2;\n",
              "      --hover-bg-color: #E2EBFA;\n",
              "      --hover-fill-color: #174EA6;\n",
              "      --disabled-fill-color: #AAA;\n",
              "      --disabled-bg-color: #DDD;\n",
              "  }\n",
              "\n",
              "  [theme=dark] .colab-df-quickchart {\n",
              "      --bg-color: #3B4455;\n",
              "      --fill-color: #D2E3FC;\n",
              "      --hover-bg-color: #434B5C;\n",
              "      --hover-fill-color: #FFFFFF;\n",
              "      --disabled-bg-color: #3B4455;\n",
              "      --disabled-fill-color: #666;\n",
              "  }\n",
              "\n",
              "  .colab-df-quickchart {\n",
              "    background-color: var(--bg-color);\n",
              "    border: none;\n",
              "    border-radius: 50%;\n",
              "    cursor: pointer;\n",
              "    display: none;\n",
              "    fill: var(--fill-color);\n",
              "    height: 32px;\n",
              "    padding: 0;\n",
              "    width: 32px;\n",
              "  }\n",
              "\n",
              "  .colab-df-quickchart:hover {\n",
              "    background-color: var(--hover-bg-color);\n",
              "    box-shadow: 0 1px 2px rgba(60, 64, 67, 0.3), 0 1px 3px 1px rgba(60, 64, 67, 0.15);\n",
              "    fill: var(--button-hover-fill-color);\n",
              "  }\n",
              "\n",
              "  .colab-df-quickchart-complete:disabled,\n",
              "  .colab-df-quickchart-complete:disabled:hover {\n",
              "    background-color: var(--disabled-bg-color);\n",
              "    fill: var(--disabled-fill-color);\n",
              "    box-shadow: none;\n",
              "  }\n",
              "\n",
              "  .colab-df-spinner {\n",
              "    border: 2px solid var(--fill-color);\n",
              "    border-color: transparent;\n",
              "    border-bottom-color: var(--fill-color);\n",
              "    animation:\n",
              "      spin 1s steps(1) infinite;\n",
              "  }\n",
              "\n",
              "  @keyframes spin {\n",
              "    0% {\n",
              "      border-color: transparent;\n",
              "      border-bottom-color: var(--fill-color);\n",
              "      border-left-color: var(--fill-color);\n",
              "    }\n",
              "    20% {\n",
              "      border-color: transparent;\n",
              "      border-left-color: var(--fill-color);\n",
              "      border-top-color: var(--fill-color);\n",
              "    }\n",
              "    30% {\n",
              "      border-color: transparent;\n",
              "      border-left-color: var(--fill-color);\n",
              "      border-top-color: var(--fill-color);\n",
              "      border-right-color: var(--fill-color);\n",
              "    }\n",
              "    40% {\n",
              "      border-color: transparent;\n",
              "      border-right-color: var(--fill-color);\n",
              "      border-top-color: var(--fill-color);\n",
              "    }\n",
              "    60% {\n",
              "      border-color: transparent;\n",
              "      border-right-color: var(--fill-color);\n",
              "    }\n",
              "    80% {\n",
              "      border-color: transparent;\n",
              "      border-right-color: var(--fill-color);\n",
              "      border-bottom-color: var(--fill-color);\n",
              "    }\n",
              "    90% {\n",
              "      border-color: transparent;\n",
              "      border-bottom-color: var(--fill-color);\n",
              "    }\n",
              "  }\n",
              "</style>\n",
              "\n",
              "  <script>\n",
              "    async function quickchart(key) {\n",
              "      const quickchartButtonEl =\n",
              "        document.querySelector('#' + key + ' button');\n",
              "      quickchartButtonEl.disabled = true;  // To prevent multiple clicks.\n",
              "      quickchartButtonEl.classList.add('colab-df-spinner');\n",
              "      try {\n",
              "        const charts = await google.colab.kernel.invokeFunction(\n",
              "            'suggestCharts', [key], {});\n",
              "      } catch (error) {\n",
              "        console.error('Error during call to suggestCharts:', error);\n",
              "      }\n",
              "      quickchartButtonEl.classList.remove('colab-df-spinner');\n",
              "      quickchartButtonEl.classList.add('colab-df-quickchart-complete');\n",
              "    }\n",
              "    (() => {\n",
              "      let quickchartButtonEl =\n",
              "        document.querySelector('#df-891259b0-70d9-49d0-ac07-1c88ece38a5c button');\n",
              "      quickchartButtonEl.style.display =\n",
              "        google.colab.kernel.accessAllowed ? 'block' : 'none';\n",
              "    })();\n",
              "  </script>\n",
              "</div>\n",
              "\n",
              "    </div>\n",
              "  </div>\n"
            ],
            "application/vnd.google.colaboratory.intrinsic+json": {
              "type": "dataframe",
              "variable_name": "valid_df"
            }
          },
          "metadata": {},
          "execution_count": 7
        }
      ],
      "source": [
        "valid_df.head()"
      ]
    },
    {
      "cell_type": "markdown",
      "metadata": {
        "id": "GfbBl_jewXt0"
      },
      "source": [
        "## 2. feature 추가하기"
      ]
    },
    {
      "cell_type": "markdown",
      "metadata": {
        "id": "omQfDUZZwXt0"
      },
      "source": [
        "도메인 지식을 활용하여 feature를 자유롭게 추가하시면 됩니다."
      ]
    },
    {
      "cell_type": "code",
      "source": [
        "label_groups = {label: group for label, group in train_df.groupby(\"Label\")}\n",
        "normal_data = label_groups['Benign_IP']\n",
        "attack_data = label_groups['Attack_IP']"
      ],
      "metadata": {
        "id": "SAU1YgEno6YC"
      },
      "execution_count": 8,
      "outputs": []
    },
    {
      "cell_type": "code",
      "source": [
        "summary_normal = normal_data.describe()\n",
        "summary_attack = attack_data.describe()\n",
        "\n",
        "sum_summary = summary_normal + summary_attack\n",
        "diff_summary = summary_normal - summary_attack\n",
        "print(diff_summary / sum_summary)"
      ],
      "metadata": {
        "colab": {
          "base_uri": "https://localhost:8080/"
        },
        "id": "8j8dZZG1o88b",
        "outputId": "8b9e93f4-6db1-4a4d-f321-f3f7c01033cc"
      },
      "execution_count": 9,
      "outputs": [
        {
          "output_type": "stream",
          "name": "stdout",
          "text": [
            "       Src Port  Dst Port  Flow Duration  Total Fwd Packet  Total Bwd packets  \\\n",
            "count  0.168836  0.168836       0.168836          0.168836           0.168836   \n",
            "mean  -0.033986 -0.367769       0.531818         -0.383915           0.822537   \n",
            "std    0.146802 -0.204765       0.106062          0.558484           0.697098   \n",
            "min         NaN       NaN            NaN          0.000000                NaN   \n",
            "25%   -0.105763 -0.929351       1.000000          0.000000                NaN   \n",
            "50%   -0.016845 -0.441877       0.990078          0.200000                NaN   \n",
            "75%    0.027420 -0.468769       0.999122         -0.921053           0.000000   \n",
            "max    0.000053 -0.000298       0.000003          0.895188           0.711297   \n",
            "\n",
            "       Total Length of Fwd Packet  Total Length of Bwd Packet  \\\n",
            "count                    0.168836                    0.168836   \n",
            "mean                     0.611501                    0.949185   \n",
            "std                      0.809441                    0.886605   \n",
            "min                           NaN                         NaN   \n",
            "25%                           NaN                         NaN   \n",
            "50%                           NaN                         NaN   \n",
            "75%                           NaN                         NaN   \n",
            "max                      0.667004                    0.874746   \n",
            "\n",
            "       Fwd Packet Length Max  Fwd Packet Length Min  Fwd Packet Length Std  \\\n",
            "count               0.168836               0.168836               0.168836   \n",
            "mean                0.290429              -0.018917               0.457873   \n",
            "std                 0.128781              -0.355816               0.249134   \n",
            "min                      NaN                    NaN                    NaN   \n",
            "25%                      NaN                    NaN                    NaN   \n",
            "50%                      NaN                    NaN                    NaN   \n",
            "75%                      NaN                    NaN                    NaN   \n",
            "max                 0.033263               0.033263               0.319716   \n",
            "\n",
            "       ...  Fwd Act Data Pkts  Fwd Seg Size Min  Active Mean  Active Std  \\\n",
            "count  ...           0.168836          0.168836     0.168836    0.168836   \n",
            "mean   ...           0.412206          0.107254     0.756767   -0.259331   \n",
            "std    ...           0.697062          0.438946     0.144802   -0.139360   \n",
            "min    ...                NaN               NaN          NaN         NaN   \n",
            "25%    ...                NaN         -0.428571          NaN         NaN   \n",
            "50%    ...                NaN          0.000000          NaN         NaN   \n",
            "75%    ...                NaN          0.333333     1.000000         NaN   \n",
            "max    ...           0.612628          0.047619     0.000934   -0.001867   \n",
            "\n",
            "       Active Max  Active Min  Idle Mean  Idle Std  Idle Max  Idle Min  \n",
            "count    0.168836    0.168836   0.168836  0.168836  0.168836  0.168836  \n",
            "mean     0.649704    0.848904   0.668795  0.699483  0.663785  0.660396  \n",
            "std      0.035367    0.211972   0.199593  0.274362  0.224906  0.182353  \n",
            "min           NaN         NaN        NaN       NaN       NaN       NaN  \n",
            "25%           NaN         NaN        NaN       NaN       NaN       NaN  \n",
            "50%           NaN         NaN        NaN       NaN       NaN       NaN  \n",
            "75%      1.000000    1.000000   1.000000       NaN  1.000000  1.000000  \n",
            "max      0.000934    0.000934   0.000121 -0.006814  0.000121  0.000121  \n",
            "\n",
            "[8 rows x 48 columns]\n"
          ]
        }
      ]
    },
    {
      "cell_type": "markdown",
      "source": [
        "# **데이터 전처리**\n",
        "1. 특정 칼럼을 뽑아쓰는 방식은 힘들어 보인다. -> 각 열 데이터에 따라 크게 변화가 있지 않아보였다.\n",
        "2. 그중에서 크게 의미없다고 생각되는 특정 열만 제외하자.\n",
        "3. IP, flag 등과 같은 데이터는 가능한 숫자형태로 바꿔서 넣어주자"
      ],
      "metadata": {
        "id": "teNIaeQi4wL5"
      }
    },
    {
      "cell_type": "code",
      "source": [
        "import ipaddress\n",
        "from sklearn.preprocessing import LabelEncoder"
      ],
      "metadata": {
        "id": "hKVZH1Uv3lgJ"
      },
      "execution_count": 10,
      "outputs": []
    },
    {
      "cell_type": "code",
      "source": [
        "#IP subnet 기반의 flag 만들기\n",
        "def ip_map(ip):\n",
        "  first_octet = int(ip.split('.')[0])\n",
        "  if(1 <= first_octet <= 126):\n",
        "    return 1\n",
        "  elif 127 <= first_octet <= 191:\n",
        "    return 2\n",
        "  elif 192 <= first_octet <= 224:\n",
        "    return 3\n",
        "  elif 225 <= first_octet <= 240:\n",
        "    return 4\n",
        "  else:\n",
        "    return 5"
      ],
      "metadata": {
        "id": "eIKxbikM3ryc"
      },
      "execution_count": 11,
      "outputs": []
    },
    {
      "cell_type": "code",
      "source": [
        "#IP -> 정수형 변경\n",
        "def convert_ip(ip):\n",
        "  return int(ipaddress.IPv4Address(ip))"
      ],
      "metadata": {
        "id": "zVmzbJvK3zEp"
      },
      "execution_count": 12,
      "outputs": []
    },
    {
      "cell_type": "code",
      "source": [
        "#df (pd.DataFrame): 데이터프레임\n",
        "#column_name (str): 인코딩할 컬럼 이름\n",
        "#new_column_name (str): 생성할 컬럼 이름\n",
        "\n",
        "def encode_column(df, column_name, new_column_name):\n",
        "    encoder = LabelEncoder()\n",
        "    df[new_column_name] = encoder.fit_transform(df[column_name])\n",
        "    # df.drop(columns=[column_name], inplace=True)\n",
        "    return df"
      ],
      "metadata": {
        "id": "G_AoMzr44QWo"
      },
      "execution_count": 13,
      "outputs": []
    },
    {
      "cell_type": "code",
      "source": [
        "# df (pd.DataFrame): 데이터프레임\n",
        "# ip_column (str): IP 주소 컬럼 이름\n",
        "# prefix (str): 새 컬럼 이름의 접두사 ('Src' 또는 'Dst')\n",
        "\n",
        "def preprocess_ip(df, ip_column, prefix):\n",
        "    df[f'{prefix}_IP_map'] = df[ip_column].apply(ip_map)\n",
        "    df[f'{prefix}_Int_IP'] = df[ip_column].apply(convert_ip)\n",
        "    # df.drop(columns=[ip_column], inplace=True)\n",
        "    return df"
      ],
      "metadata": {
        "id": "Skzntid-6AC8"
      },
      "execution_count": 14,
      "outputs": []
    },
    {
      "cell_type": "code",
      "source": [
        "def preprocess_dataset(df):\n",
        "    # IP 전처리\n",
        "    df = preprocess_ip(df, 'Src IP', 'Src')\n",
        "    df = preprocess_ip(df, 'Dst IP', 'Dst')\n",
        "\n",
        "    # Flags 인코딩\n",
        "    df = encode_column(df, 'Flags', 'Encoded_Flags')\n",
        "\n",
        "    # Protocol 인코딩\n",
        "    df = encode_column(df, 'Protocol', 'Encoded_Protocol')\n",
        "\n",
        "    return df"
      ],
      "metadata": {
        "id": "EFyX8t1o6kFX"
      },
      "execution_count": 15,
      "outputs": []
    },
    {
      "cell_type": "code",
      "execution_count": 16,
      "metadata": {
        "id": "KxPGdRV0wXt1"
      },
      "outputs": [],
      "source": [
        "train_y = [0 if i == \"Benign_IP\" else 1 for i in train_df['Label']]\n",
        "valid_y = [0 if i == \"Benign_IP\" else 1 for i in valid_df['Label']]"
      ]
    },
    {
      "cell_type": "markdown",
      "metadata": {
        "id": "sOE8eDXSwXt1"
      },
      "source": [
        "### 스케일러 적용"
      ]
    },
    {
      "cell_type": "code",
      "source": [
        "except_col = ['Timestamp', 'Label', 'Fwd Packet Length Std', 'Active Std', 'Src IP', 'Protocol', 'Bwd Packet Length Std', 'Flags', 'Bwd IAT Std', 'Dst IP']"
      ],
      "metadata": {
        "id": "V0Xfl0xVi5tk"
      },
      "execution_count": 17,
      "outputs": []
    },
    {
      "cell_type": "code",
      "execution_count": 18,
      "metadata": {
        "id": "1XggFfDOwXt0"
      },
      "outputs": [],
      "source": [
        "train_expt = preprocess_dataset(train_df)\n",
        "train_expt = train_df.drop(except_col, axis = 1)\n",
        "train_list = train_expt.values.tolist()\n",
        "\n",
        "valid_expt = preprocess_dataset(valid_df)\n",
        "valid_expt = valid_df.drop(except_col, axis = 1)\n",
        "valid_list = valid_expt.values.tolist()"
      ]
    },
    {
      "cell_type": "code",
      "source": [
        "print(len(train_expt.keys()))"
      ],
      "metadata": {
        "colab": {
          "base_uri": "https://localhost:8080/"
        },
        "id": "o73p6o64uQ8f",
        "outputId": "1dfde47d-d36a-4e28-9365-35c8ed0e126b"
      },
      "execution_count": 19,
      "outputs": [
        {
          "output_type": "stream",
          "name": "stdout",
          "text": [
            "50\n"
          ]
        }
      ]
    },
    {
      "cell_type": "code",
      "execution_count": 20,
      "metadata": {
        "id": "cFrUFz2hHDT8",
        "scrolled": true
      },
      "outputs": [],
      "source": [
        "# standardScaler\n",
        "from sklearn.preprocessing import StandardScaler\n",
        "\n",
        "normalizer = StandardScaler()\n",
        "train_X = []\n",
        "valid_X = []\n",
        "\n",
        "normalizer.fit(train_list)\n",
        "\n",
        "train_X = normalizer.transform(train_list)\n",
        "valid_X = normalizer.transform(valid_list)"
      ]
    },
    {
      "cell_type": "code",
      "execution_count": 21,
      "metadata": {
        "id": "I1XCpEiJHDT9"
      },
      "outputs": [],
      "source": [
        "#학습을 위한 데이터 타입 변환\n",
        "\n",
        "train_X = train_X.astype(np.float32)\n",
        "valid_X = valid_X.astype(np.float32)\n",
        "train_y = np.array(train_y, dtype=np.float32)\n",
        "valid_y = np.array(valid_y, dtype=np.float32)"
      ]
    },
    {
      "cell_type": "markdown",
      "source": [
        "977270, 325560 이 나와야 함."
      ],
      "metadata": {
        "id": "5NvcpyzFtv2e"
      }
    },
    {
      "cell_type": "code",
      "source": [
        "len(train_y), len(valid_y)"
      ],
      "metadata": {
        "colab": {
          "base_uri": "https://localhost:8080/"
        },
        "id": "DUrhTIbrl-HK",
        "outputId": "30e6bd2b-7bac-4b51-8e6b-2001eef1a398"
      },
      "execution_count": 22,
      "outputs": [
        {
          "output_type": "execute_result",
          "data": {
            "text/plain": [
              "(977270, 325963)"
            ]
          },
          "metadata": {},
          "execution_count": 22
        }
      ]
    },
    {
      "cell_type": "markdown",
      "metadata": {
        "id": "_pp5DEb_wXt2"
      },
      "source": [
        "# 3. 모델 학습"
      ]
    },
    {
      "cell_type": "markdown",
      "source": [
        "# **RandomForest 기반**"
      ],
      "metadata": {
        "id": "6jujaicSp2Bm"
      }
    },
    {
      "cell_type": "code",
      "execution_count": 23,
      "metadata": {
        "id": "sZ6ntmpjwXt2"
      },
      "outputs": [],
      "source": [
        "# from sklearn.ensemble import RandomForestClassifier\n",
        "# rfc = RandomForestClassifier(n_estimators = 100, random_state = 108) # randomstate는 108로 고정 0.97\n",
        "# rfc.fit(train_X, train_y)\n",
        "# y_pred = rfc.predict(valid_X)"
      ]
    },
    {
      "cell_type": "markdown",
      "metadata": {
        "id": "7sAnTZDuwXt2"
      },
      "source": [
        "플로우 기반 이상탐지 성능평가"
      ]
    },
    {
      "cell_type": "code",
      "source": [
        "# from sklearn.metrics import accuracy_score, precision_score, recall_score, f1_score, confusion_matrix\n",
        "\n",
        "# # 성능 평가를 위해 예측 값을 반올림\n",
        "# round_valid_y = valid_y.astype(\"int\")\n",
        "# round_y_pred = np.round(y_pred)\n",
        "# print(\"confusion_matrix\\n\", confusion_matrix(round_valid_y, round_y_pred))\n",
        "# print(f\"accuracy\\t: {accuracy_score(round_valid_y, round_y_pred): .5f}\")\n",
        "# print(f\"precision\\t: {precision_score(round_valid_y, round_y_pred): .5f}\")\n",
        "# print(f\"recall\\t\\t: {recall_score(round_valid_y, round_y_pred): .5f}\")\n",
        "# print(f\"F-1\\t\\t: {f1_score(round_valid_y, round_y_pred): .5f}\")"
      ],
      "metadata": {
        "id": "yowGYWTgZ26b"
      },
      "execution_count": 24,
      "outputs": []
    },
    {
      "cell_type": "markdown",
      "source": [
        "# **Lightgbm**"
      ],
      "metadata": {
        "id": "eZLYt_bhqLlp"
      }
    },
    {
      "cell_type": "code",
      "source": [
        "from lightgbm import LGBMClassifier\n",
        "#{'n_estimators': 958, 'learning_rate': 0.05367520221347052, 'max_depth': 5, 'num_leaves': 280}. Best is trial 0 with value: 0.999339599459393. 091\n",
        "# {'n_estimators': 602, 'learning_rate': 0.09769982100415123, 'max_depth': 5, 'num_leaves': 201}. Best is trial 6 with value: 0.9993764590244502.\n",
        "# {'n_estimators': 348, 'learning_rate': 0.09359221453769044, 'max_depth': 9, 'num_leaves': 890}. Best is trial 6 with value: 0.9993764590244502.\n",
        "# {'n_estimators': 789, 'learning_rate': 0.08614694420893249, 'max_depth': 9, 'num_leaves': 970}. Best is trial 5 with value: 0.9993703157636074.\n",
        "# {'n_estimators': 958, 'learning_rate': 0.05367520221347052, 'max_depth': 5, 'num_leaves': 280}. Best is trial 0 with value: 0.999339599459393.\n",
        "# {'n_estimators': 568, 'learning_rate': 0.06635960798264401, 'max_depth': 8, 'num_leaves': 757}. Best is trial 0 with value: 0.999339599459393.\n",
        "# {'n_estimators': 321, 'learning_rate': 0.013961855681780553, 'max_depth': 8, 'num_leaves': 635}. Best is trial 0 with value: 0.999339599459393.\n",
        "# {'n_estimators': 610, 'learning_rate': 0.05819869111299436, 'max_depth': 10, 'num_leaves': 952}. Best is trial 0 with value: 0.999339599459393.\n",
        "# 0.9993764590244502 and parameters: {'n_estimators': 348, 'learning_rate': 0.09359221453769044, 'max_depth': 9, 'num_leaves': 890}. Best is trial 6 with value: 0.9993764590244502. 995\n",
        "lgbmc = LGBMClassifier(random_state = 108, n_estimators = 348, learning_rate = 0.09359221453769044, max_depth = 9, num_leaves = 890, objective = 'binary', metric = 'binary_logloss')\n",
        "lgbmc.fit(train_X, train_y)\n",
        "y_pred = lgbmc.predict(valid_X)"
      ],
      "metadata": {
        "id": "i9QtuCKSqO4l",
        "colab": {
          "base_uri": "https://localhost:8080/"
        },
        "outputId": "527aeb58-b2fc-48a5-b880-c463d6f3fa2e"
      },
      "execution_count": 25,
      "outputs": [
        {
          "output_type": "stream",
          "name": "stderr",
          "text": [
            "/usr/local/lib/python3.10/dist-packages/dask/dataframe/__init__.py:42: FutureWarning: \n",
            "Dask dataframe query planning is disabled because dask-expr is not installed.\n",
            "\n",
            "You can install it with `pip install dask[dataframe]` or `conda install dask`.\n",
            "This will raise in a future version.\n",
            "\n",
            "  warnings.warn(msg, FutureWarning)\n"
          ]
        },
        {
          "output_type": "stream",
          "name": "stdout",
          "text": [
            "[LightGBM] [Info] Number of positive: 406136, number of negative: 571134\n",
            "[LightGBM] [Info] Auto-choosing row-wise multi-threading, the overhead of testing was 0.232584 seconds.\n",
            "You can set `force_row_wise=true` to remove the overhead.\n",
            "And if memory is not enough, you can set `force_col_wise=true`.\n",
            "[LightGBM] [Info] Total Bins 10977\n",
            "[LightGBM] [Info] Number of data points in the train set: 977270, number of used features: 50\n",
            "[LightGBM] [Info] [binary:BoostFromScore]: pavg=0.415582 -> initscore=-0.340936\n",
            "[LightGBM] [Info] Start training from score -0.340936\n",
            "[LightGBM] [Warning] No further splits with positive gain, best gain: -inf\n",
            "[LightGBM] [Warning] No further splits with positive gain, best gain: -inf\n",
            "[LightGBM] [Warning] No further splits with positive gain, best gain: -inf\n",
            "[LightGBM] [Warning] No further splits with positive gain, best gain: -inf\n",
            "[LightGBM] [Warning] No further splits with positive gain, best gain: -inf\n",
            "[LightGBM] [Warning] No further splits with positive gain, best gain: -inf\n",
            "[LightGBM] [Warning] No further splits with positive gain, best gain: -inf\n",
            "[LightGBM] [Warning] No further splits with positive gain, best gain: -inf\n",
            "[LightGBM] [Warning] No further splits with positive gain, best gain: -inf\n",
            "[LightGBM] [Warning] No further splits with positive gain, best gain: -inf\n",
            "[LightGBM] [Warning] No further splits with positive gain, best gain: -inf\n",
            "[LightGBM] [Warning] No further splits with positive gain, best gain: -inf\n",
            "[LightGBM] [Warning] No further splits with positive gain, best gain: -inf\n",
            "[LightGBM] [Warning] No further splits with positive gain, best gain: -inf\n",
            "[LightGBM] [Warning] No further splits with positive gain, best gain: -inf\n",
            "[LightGBM] [Warning] No further splits with positive gain, best gain: -inf\n",
            "[LightGBM] [Warning] No further splits with positive gain, best gain: -inf\n",
            "[LightGBM] [Warning] No further splits with positive gain, best gain: -inf\n",
            "[LightGBM] [Warning] No further splits with positive gain, best gain: -inf\n",
            "[LightGBM] [Warning] No further splits with positive gain, best gain: -inf\n",
            "[LightGBM] [Warning] No further splits with positive gain, best gain: -inf\n",
            "[LightGBM] [Warning] No further splits with positive gain, best gain: -inf\n",
            "[LightGBM] [Warning] No further splits with positive gain, best gain: -inf\n",
            "[LightGBM] [Warning] No further splits with positive gain, best gain: -inf\n",
            "[LightGBM] [Warning] No further splits with positive gain, best gain: -inf\n",
            "[LightGBM] [Warning] No further splits with positive gain, best gain: -inf\n",
            "[LightGBM] [Warning] No further splits with positive gain, best gain: -inf\n",
            "[LightGBM] [Warning] No further splits with positive gain, best gain: -inf\n",
            "[LightGBM] [Warning] No further splits with positive gain, best gain: -inf\n",
            "[LightGBM] [Warning] No further splits with positive gain, best gain: -inf\n",
            "[LightGBM] [Warning] No further splits with positive gain, best gain: -inf\n",
            "[LightGBM] [Warning] No further splits with positive gain, best gain: -inf\n",
            "[LightGBM] [Warning] No further splits with positive gain, best gain: -inf\n",
            "[LightGBM] [Warning] No further splits with positive gain, best gain: -inf\n",
            "[LightGBM] [Warning] No further splits with positive gain, best gain: -inf\n",
            "[LightGBM] [Warning] No further splits with positive gain, best gain: -inf\n",
            "[LightGBM] [Warning] No further splits with positive gain, best gain: -inf\n",
            "[LightGBM] [Warning] No further splits with positive gain, best gain: -inf\n",
            "[LightGBM] [Warning] No further splits with positive gain, best gain: -inf\n",
            "[LightGBM] [Warning] No further splits with positive gain, best gain: -inf\n",
            "[LightGBM] [Warning] No further splits with positive gain, best gain: -inf\n",
            "[LightGBM] [Warning] No further splits with positive gain, best gain: -inf\n",
            "[LightGBM] [Warning] No further splits with positive gain, best gain: -inf\n",
            "[LightGBM] [Warning] No further splits with positive gain, best gain: -inf\n",
            "[LightGBM] [Warning] No further splits with positive gain, best gain: -inf\n",
            "[LightGBM] [Warning] No further splits with positive gain, best gain: -inf\n",
            "[LightGBM] [Warning] No further splits with positive gain, best gain: -inf\n",
            "[LightGBM] [Warning] No further splits with positive gain, best gain: -inf\n",
            "[LightGBM] [Warning] No further splits with positive gain, best gain: -inf\n",
            "[LightGBM] [Warning] No further splits with positive gain, best gain: -inf\n",
            "[LightGBM] [Warning] No further splits with positive gain, best gain: -inf\n",
            "[LightGBM] [Warning] No further splits with positive gain, best gain: -inf\n",
            "[LightGBM] [Warning] No further splits with positive gain, best gain: -inf\n",
            "[LightGBM] [Warning] No further splits with positive gain, best gain: -inf\n",
            "[LightGBM] [Warning] No further splits with positive gain, best gain: -inf\n",
            "[LightGBM] [Warning] No further splits with positive gain, best gain: -inf\n",
            "[LightGBM] [Warning] No further splits with positive gain, best gain: -inf\n",
            "[LightGBM] [Warning] No further splits with positive gain, best gain: -inf\n",
            "[LightGBM] [Warning] No further splits with positive gain, best gain: -inf\n",
            "[LightGBM] [Warning] No further splits with positive gain, best gain: -inf\n",
            "[LightGBM] [Warning] No further splits with positive gain, best gain: -inf\n",
            "[LightGBM] [Warning] No further splits with positive gain, best gain: -inf\n",
            "[LightGBM] [Warning] No further splits with positive gain, best gain: -inf\n",
            "[LightGBM] [Warning] No further splits with positive gain, best gain: -inf\n",
            "[LightGBM] [Warning] No further splits with positive gain, best gain: -inf\n",
            "[LightGBM] [Warning] No further splits with positive gain, best gain: -inf\n",
            "[LightGBM] [Warning] No further splits with positive gain, best gain: -inf\n",
            "[LightGBM] [Warning] No further splits with positive gain, best gain: -inf\n",
            "[LightGBM] [Warning] No further splits with positive gain, best gain: -inf\n",
            "[LightGBM] [Warning] No further splits with positive gain, best gain: -inf\n",
            "[LightGBM] [Warning] No further splits with positive gain, best gain: -inf\n",
            "[LightGBM] [Warning] No further splits with positive gain, best gain: -inf\n",
            "[LightGBM] [Warning] No further splits with positive gain, best gain: -inf\n",
            "[LightGBM] [Warning] No further splits with positive gain, best gain: -inf\n",
            "[LightGBM] [Warning] No further splits with positive gain, best gain: -inf\n",
            "[LightGBM] [Warning] No further splits with positive gain, best gain: -inf\n",
            "[LightGBM] [Warning] No further splits with positive gain, best gain: -inf\n",
            "[LightGBM] [Warning] No further splits with positive gain, best gain: -inf\n",
            "[LightGBM] [Warning] No further splits with positive gain, best gain: -inf\n",
            "[LightGBM] [Warning] No further splits with positive gain, best gain: -inf\n",
            "[LightGBM] [Warning] No further splits with positive gain, best gain: -inf\n",
            "[LightGBM] [Warning] No further splits with positive gain, best gain: -inf\n",
            "[LightGBM] [Warning] No further splits with positive gain, best gain: -inf\n",
            "[LightGBM] [Warning] No further splits with positive gain, best gain: -inf\n",
            "[LightGBM] [Warning] No further splits with positive gain, best gain: -inf\n",
            "[LightGBM] [Warning] No further splits with positive gain, best gain: -inf\n",
            "[LightGBM] [Warning] No further splits with positive gain, best gain: -inf\n",
            "[LightGBM] [Warning] No further splits with positive gain, best gain: -inf\n",
            "[LightGBM] [Warning] No further splits with positive gain, best gain: -inf\n",
            "[LightGBM] [Warning] No further splits with positive gain, best gain: -inf\n",
            "[LightGBM] [Warning] No further splits with positive gain, best gain: -inf\n",
            "[LightGBM] [Warning] No further splits with positive gain, best gain: -inf\n",
            "[LightGBM] [Warning] No further splits with positive gain, best gain: -inf\n",
            "[LightGBM] [Warning] No further splits with positive gain, best gain: -inf\n",
            "[LightGBM] [Warning] No further splits with positive gain, best gain: -inf\n",
            "[LightGBM] [Warning] No further splits with positive gain, best gain: -inf\n",
            "[LightGBM] [Warning] No further splits with positive gain, best gain: -inf\n",
            "[LightGBM] [Warning] No further splits with positive gain, best gain: -inf\n",
            "[LightGBM] [Warning] No further splits with positive gain, best gain: -inf\n",
            "[LightGBM] [Warning] No further splits with positive gain, best gain: -inf\n",
            "[LightGBM] [Warning] No further splits with positive gain, best gain: -inf\n",
            "[LightGBM] [Warning] No further splits with positive gain, best gain: -inf\n",
            "[LightGBM] [Warning] No further splits with positive gain, best gain: -inf\n",
            "[LightGBM] [Warning] No further splits with positive gain, best gain: -inf\n",
            "[LightGBM] [Warning] No further splits with positive gain, best gain: -inf\n",
            "[LightGBM] [Warning] No further splits with positive gain, best gain: -inf\n",
            "[LightGBM] [Warning] No further splits with positive gain, best gain: -inf\n",
            "[LightGBM] [Warning] No further splits with positive gain, best gain: -inf\n",
            "[LightGBM] [Warning] No further splits with positive gain, best gain: -inf\n",
            "[LightGBM] [Warning] No further splits with positive gain, best gain: -inf\n",
            "[LightGBM] [Warning] No further splits with positive gain, best gain: -inf\n",
            "[LightGBM] [Warning] No further splits with positive gain, best gain: -inf\n",
            "[LightGBM] [Warning] No further splits with positive gain, best gain: -inf\n",
            "[LightGBM] [Warning] No further splits with positive gain, best gain: -inf\n",
            "[LightGBM] [Warning] No further splits with positive gain, best gain: -inf\n",
            "[LightGBM] [Warning] No further splits with positive gain, best gain: -inf\n",
            "[LightGBM] [Warning] No further splits with positive gain, best gain: -inf\n",
            "[LightGBM] [Warning] No further splits with positive gain, best gain: -inf\n",
            "[LightGBM] [Warning] No further splits with positive gain, best gain: -inf\n",
            "[LightGBM] [Warning] No further splits with positive gain, best gain: -inf\n",
            "[LightGBM] [Warning] No further splits with positive gain, best gain: -inf\n",
            "[LightGBM] [Warning] No further splits with positive gain, best gain: -inf\n",
            "[LightGBM] [Warning] No further splits with positive gain, best gain: -inf\n",
            "[LightGBM] [Warning] No further splits with positive gain, best gain: -inf\n",
            "[LightGBM] [Warning] No further splits with positive gain, best gain: -inf\n",
            "[LightGBM] [Warning] No further splits with positive gain, best gain: -inf\n",
            "[LightGBM] [Warning] No further splits with positive gain, best gain: -inf\n",
            "[LightGBM] [Warning] No further splits with positive gain, best gain: -inf\n",
            "[LightGBM] [Warning] No further splits with positive gain, best gain: -inf\n",
            "[LightGBM] [Warning] No further splits with positive gain, best gain: -inf\n",
            "[LightGBM] [Warning] No further splits with positive gain, best gain: -inf\n",
            "[LightGBM] [Warning] No further splits with positive gain, best gain: -inf\n",
            "[LightGBM] [Warning] No further splits with positive gain, best gain: -inf\n",
            "[LightGBM] [Warning] No further splits with positive gain, best gain: -inf\n",
            "[LightGBM] [Warning] No further splits with positive gain, best gain: -inf\n",
            "[LightGBM] [Warning] No further splits with positive gain, best gain: -inf\n",
            "[LightGBM] [Warning] No further splits with positive gain, best gain: -inf\n",
            "[LightGBM] [Warning] No further splits with positive gain, best gain: -inf\n",
            "[LightGBM] [Warning] No further splits with positive gain, best gain: -inf\n",
            "[LightGBM] [Warning] No further splits with positive gain, best gain: -inf\n",
            "[LightGBM] [Warning] No further splits with positive gain, best gain: -inf\n",
            "[LightGBM] [Warning] No further splits with positive gain, best gain: -inf\n",
            "[LightGBM] [Warning] No further splits with positive gain, best gain: -inf\n",
            "[LightGBM] [Warning] No further splits with positive gain, best gain: -inf\n",
            "[LightGBM] [Warning] No further splits with positive gain, best gain: -inf\n",
            "[LightGBM] [Warning] No further splits with positive gain, best gain: -inf\n",
            "[LightGBM] [Warning] No further splits with positive gain, best gain: -inf\n",
            "[LightGBM] [Warning] No further splits with positive gain, best gain: -inf\n",
            "[LightGBM] [Warning] No further splits with positive gain, best gain: -inf\n",
            "[LightGBM] [Warning] No further splits with positive gain, best gain: -inf\n",
            "[LightGBM] [Warning] No further splits with positive gain, best gain: -inf\n",
            "[LightGBM] [Warning] No further splits with positive gain, best gain: -inf\n",
            "[LightGBM] [Warning] No further splits with positive gain, best gain: -inf\n",
            "[LightGBM] [Warning] No further splits with positive gain, best gain: -inf\n",
            "[LightGBM] [Warning] No further splits with positive gain, best gain: -inf\n",
            "[LightGBM] [Warning] No further splits with positive gain, best gain: -inf\n",
            "[LightGBM] [Warning] No further splits with positive gain, best gain: -inf\n",
            "[LightGBM] [Warning] No further splits with positive gain, best gain: -inf\n",
            "[LightGBM] [Warning] No further splits with positive gain, best gain: -inf\n",
            "[LightGBM] [Warning] No further splits with positive gain, best gain: -inf\n",
            "[LightGBM] [Warning] No further splits with positive gain, best gain: -inf\n",
            "[LightGBM] [Warning] No further splits with positive gain, best gain: -inf\n",
            "[LightGBM] [Warning] No further splits with positive gain, best gain: -inf\n",
            "[LightGBM] [Warning] No further splits with positive gain, best gain: -inf\n",
            "[LightGBM] [Warning] No further splits with positive gain, best gain: -inf\n",
            "[LightGBM] [Warning] No further splits with positive gain, best gain: -inf\n",
            "[LightGBM] [Warning] No further splits with positive gain, best gain: -inf\n",
            "[LightGBM] [Warning] No further splits with positive gain, best gain: -inf\n",
            "[LightGBM] [Warning] No further splits with positive gain, best gain: -inf\n",
            "[LightGBM] [Warning] No further splits with positive gain, best gain: -inf\n",
            "[LightGBM] [Warning] No further splits with positive gain, best gain: -inf\n",
            "[LightGBM] [Warning] No further splits with positive gain, best gain: -inf\n",
            "[LightGBM] [Warning] No further splits with positive gain, best gain: -inf\n",
            "[LightGBM] [Warning] No further splits with positive gain, best gain: -inf\n",
            "[LightGBM] [Warning] No further splits with positive gain, best gain: -inf\n",
            "[LightGBM] [Warning] No further splits with positive gain, best gain: -inf\n",
            "[LightGBM] [Warning] No further splits with positive gain, best gain: -inf\n",
            "[LightGBM] [Warning] No further splits with positive gain, best gain: -inf\n",
            "[LightGBM] [Warning] No further splits with positive gain, best gain: -inf\n",
            "[LightGBM] [Warning] No further splits with positive gain, best gain: -inf\n",
            "[LightGBM] [Warning] No further splits with positive gain, best gain: -inf\n",
            "[LightGBM] [Warning] No further splits with positive gain, best gain: -inf\n",
            "[LightGBM] [Warning] No further splits with positive gain, best gain: -inf\n",
            "[LightGBM] [Warning] No further splits with positive gain, best gain: -inf\n",
            "[LightGBM] [Warning] No further splits with positive gain, best gain: -inf\n",
            "[LightGBM] [Warning] No further splits with positive gain, best gain: -inf\n",
            "[LightGBM] [Warning] No further splits with positive gain, best gain: -inf\n",
            "[LightGBM] [Warning] No further splits with positive gain, best gain: -inf\n",
            "[LightGBM] [Warning] No further splits with positive gain, best gain: -inf\n",
            "[LightGBM] [Warning] No further splits with positive gain, best gain: -inf\n",
            "[LightGBM] [Warning] No further splits with positive gain, best gain: -inf\n",
            "[LightGBM] [Warning] No further splits with positive gain, best gain: -inf\n",
            "[LightGBM] [Warning] No further splits with positive gain, best gain: -inf\n",
            "[LightGBM] [Warning] No further splits with positive gain, best gain: -inf\n",
            "[LightGBM] [Warning] No further splits with positive gain, best gain: -inf\n",
            "[LightGBM] [Warning] No further splits with positive gain, best gain: -inf\n",
            "[LightGBM] [Warning] No further splits with positive gain, best gain: -inf\n",
            "[LightGBM] [Warning] No further splits with positive gain, best gain: -inf\n",
            "[LightGBM] [Warning] No further splits with positive gain, best gain: -inf\n",
            "[LightGBM] [Warning] No further splits with positive gain, best gain: -inf\n",
            "[LightGBM] [Warning] No further splits with positive gain, best gain: -inf\n",
            "[LightGBM] [Warning] No further splits with positive gain, best gain: -inf\n",
            "[LightGBM] [Warning] No further splits with positive gain, best gain: -inf\n",
            "[LightGBM] [Warning] No further splits with positive gain, best gain: -inf\n",
            "[LightGBM] [Warning] No further splits with positive gain, best gain: -inf\n",
            "[LightGBM] [Warning] No further splits with positive gain, best gain: -inf\n",
            "[LightGBM] [Warning] No further splits with positive gain, best gain: -inf\n",
            "[LightGBM] [Warning] No further splits with positive gain, best gain: -inf\n",
            "[LightGBM] [Warning] No further splits with positive gain, best gain: -inf\n",
            "[LightGBM] [Warning] No further splits with positive gain, best gain: -inf\n",
            "[LightGBM] [Warning] No further splits with positive gain, best gain: -inf\n",
            "[LightGBM] [Warning] No further splits with positive gain, best gain: -inf\n",
            "[LightGBM] [Warning] No further splits with positive gain, best gain: -inf\n",
            "[LightGBM] [Warning] No further splits with positive gain, best gain: -inf\n",
            "[LightGBM] [Warning] No further splits with positive gain, best gain: -inf\n",
            "[LightGBM] [Warning] No further splits with positive gain, best gain: -inf\n",
            "[LightGBM] [Warning] No further splits with positive gain, best gain: -inf\n",
            "[LightGBM] [Warning] No further splits with positive gain, best gain: -inf\n",
            "[LightGBM] [Warning] No further splits with positive gain, best gain: -inf\n",
            "[LightGBM] [Warning] No further splits with positive gain, best gain: -inf\n",
            "[LightGBM] [Warning] No further splits with positive gain, best gain: -inf\n",
            "[LightGBM] [Warning] No further splits with positive gain, best gain: -inf\n",
            "[LightGBM] [Warning] No further splits with positive gain, best gain: -inf\n",
            "[LightGBM] [Warning] No further splits with positive gain, best gain: -inf\n",
            "[LightGBM] [Warning] No further splits with positive gain, best gain: -inf\n",
            "[LightGBM] [Warning] No further splits with positive gain, best gain: -inf\n",
            "[LightGBM] [Warning] No further splits with positive gain, best gain: -inf\n",
            "[LightGBM] [Warning] No further splits with positive gain, best gain: -inf\n",
            "[LightGBM] [Warning] No further splits with positive gain, best gain: -inf\n",
            "[LightGBM] [Warning] No further splits with positive gain, best gain: -inf\n",
            "[LightGBM] [Warning] No further splits with positive gain, best gain: -inf\n",
            "[LightGBM] [Warning] No further splits with positive gain, best gain: -inf\n",
            "[LightGBM] [Warning] No further splits with positive gain, best gain: -inf\n",
            "[LightGBM] [Warning] No further splits with positive gain, best gain: -inf\n",
            "[LightGBM] [Warning] No further splits with positive gain, best gain: -inf\n",
            "[LightGBM] [Warning] No further splits with positive gain, best gain: -inf\n",
            "[LightGBM] [Warning] No further splits with positive gain, best gain: -inf\n",
            "[LightGBM] [Warning] No further splits with positive gain, best gain: -inf\n",
            "[LightGBM] [Warning] No further splits with positive gain, best gain: -inf\n",
            "[LightGBM] [Warning] No further splits with positive gain, best gain: -inf\n",
            "[LightGBM] [Warning] No further splits with positive gain, best gain: -inf\n",
            "[LightGBM] [Warning] No further splits with positive gain, best gain: -inf\n",
            "[LightGBM] [Warning] No further splits with positive gain, best gain: -inf\n",
            "[LightGBM] [Warning] No further splits with positive gain, best gain: -inf\n",
            "[LightGBM] [Warning] No further splits with positive gain, best gain: -inf\n",
            "[LightGBM] [Warning] No further splits with positive gain, best gain: -inf\n",
            "[LightGBM] [Warning] No further splits with positive gain, best gain: -inf\n",
            "[LightGBM] [Warning] No further splits with positive gain, best gain: -inf\n",
            "[LightGBM] [Warning] No further splits with positive gain, best gain: -inf\n",
            "[LightGBM] [Warning] No further splits with positive gain, best gain: -inf\n",
            "[LightGBM] [Warning] No further splits with positive gain, best gain: -inf\n",
            "[LightGBM] [Warning] No further splits with positive gain, best gain: -inf\n",
            "[LightGBM] [Warning] No further splits with positive gain, best gain: -inf\n",
            "[LightGBM] [Warning] No further splits with positive gain, best gain: -inf\n",
            "[LightGBM] [Warning] No further splits with positive gain, best gain: -inf\n",
            "[LightGBM] [Warning] No further splits with positive gain, best gain: -inf\n",
            "[LightGBM] [Warning] No further splits with positive gain, best gain: -inf\n",
            "[LightGBM] [Warning] No further splits with positive gain, best gain: -inf\n",
            "[LightGBM] [Warning] No further splits with positive gain, best gain: -inf\n",
            "[LightGBM] [Warning] No further splits with positive gain, best gain: -inf\n",
            "[LightGBM] [Warning] No further splits with positive gain, best gain: -inf\n",
            "[LightGBM] [Warning] No further splits with positive gain, best gain: -inf\n",
            "[LightGBM] [Warning] No further splits with positive gain, best gain: -inf\n",
            "[LightGBM] [Warning] No further splits with positive gain, best gain: -inf\n",
            "[LightGBM] [Warning] No further splits with positive gain, best gain: -inf\n",
            "[LightGBM] [Warning] No further splits with positive gain, best gain: -inf\n",
            "[LightGBM] [Warning] No further splits with positive gain, best gain: -inf\n",
            "[LightGBM] [Warning] No further splits with positive gain, best gain: -inf\n",
            "[LightGBM] [Warning] No further splits with positive gain, best gain: -inf\n",
            "[LightGBM] [Warning] No further splits with positive gain, best gain: -inf\n",
            "[LightGBM] [Warning] No further splits with positive gain, best gain: -inf\n",
            "[LightGBM] [Warning] No further splits with positive gain, best gain: -inf\n",
            "[LightGBM] [Warning] No further splits with positive gain, best gain: -inf\n",
            "[LightGBM] [Warning] No further splits with positive gain, best gain: -inf\n",
            "[LightGBM] [Warning] No further splits with positive gain, best gain: -inf\n",
            "[LightGBM] [Warning] No further splits with positive gain, best gain: -inf\n",
            "[LightGBM] [Warning] No further splits with positive gain, best gain: -inf\n",
            "[LightGBM] [Warning] No further splits with positive gain, best gain: -inf\n",
            "[LightGBM] [Warning] No further splits with positive gain, best gain: -inf\n",
            "[LightGBM] [Warning] No further splits with positive gain, best gain: -inf\n",
            "[LightGBM] [Warning] No further splits with positive gain, best gain: -inf\n",
            "[LightGBM] [Warning] No further splits with positive gain, best gain: -inf\n",
            "[LightGBM] [Warning] No further splits with positive gain, best gain: -inf\n",
            "[LightGBM] [Warning] No further splits with positive gain, best gain: -inf\n",
            "[LightGBM] [Warning] No further splits with positive gain, best gain: -inf\n",
            "[LightGBM] [Warning] No further splits with positive gain, best gain: -inf\n",
            "[LightGBM] [Warning] No further splits with positive gain, best gain: -inf\n",
            "[LightGBM] [Warning] No further splits with positive gain, best gain: -inf\n",
            "[LightGBM] [Warning] No further splits with positive gain, best gain: -inf\n",
            "[LightGBM] [Warning] No further splits with positive gain, best gain: -inf\n",
            "[LightGBM] [Warning] No further splits with positive gain, best gain: -inf\n",
            "[LightGBM] [Warning] No further splits with positive gain, best gain: -inf\n",
            "[LightGBM] [Warning] No further splits with positive gain, best gain: -inf\n",
            "[LightGBM] [Warning] No further splits with positive gain, best gain: -inf\n",
            "[LightGBM] [Warning] No further splits with positive gain, best gain: -inf\n",
            "[LightGBM] [Warning] No further splits with positive gain, best gain: -inf\n",
            "[LightGBM] [Warning] No further splits with positive gain, best gain: -inf\n",
            "[LightGBM] [Warning] No further splits with positive gain, best gain: -inf\n",
            "[LightGBM] [Warning] No further splits with positive gain, best gain: -inf\n",
            "[LightGBM] [Warning] No further splits with positive gain, best gain: -inf\n",
            "[LightGBM] [Warning] No further splits with positive gain, best gain: -inf\n",
            "[LightGBM] [Warning] No further splits with positive gain, best gain: -inf\n",
            "[LightGBM] [Warning] No further splits with positive gain, best gain: -inf\n",
            "[LightGBM] [Warning] No further splits with positive gain, best gain: -inf\n",
            "[LightGBM] [Warning] No further splits with positive gain, best gain: -inf\n",
            "[LightGBM] [Warning] No further splits with positive gain, best gain: -inf\n",
            "[LightGBM] [Warning] No further splits with positive gain, best gain: -inf\n",
            "[LightGBM] [Warning] No further splits with positive gain, best gain: -inf\n",
            "[LightGBM] [Warning] No further splits with positive gain, best gain: -inf\n",
            "[LightGBM] [Warning] No further splits with positive gain, best gain: -inf\n",
            "[LightGBM] [Warning] No further splits with positive gain, best gain: -inf\n",
            "[LightGBM] [Warning] No further splits with positive gain, best gain: -inf\n",
            "[LightGBM] [Warning] No further splits with positive gain, best gain: -inf\n",
            "[LightGBM] [Warning] No further splits with positive gain, best gain: -inf\n",
            "[LightGBM] [Warning] No further splits with positive gain, best gain: -inf\n",
            "[LightGBM] [Warning] No further splits with positive gain, best gain: -inf\n",
            "[LightGBM] [Warning] No further splits with positive gain, best gain: -inf\n",
            "[LightGBM] [Warning] No further splits with positive gain, best gain: -inf\n",
            "[LightGBM] [Warning] No further splits with positive gain, best gain: -inf\n",
            "[LightGBM] [Warning] No further splits with positive gain, best gain: -inf\n",
            "[LightGBM] [Warning] No further splits with positive gain, best gain: -inf\n",
            "[LightGBM] [Warning] No further splits with positive gain, best gain: -inf\n",
            "[LightGBM] [Warning] No further splits with positive gain, best gain: -inf\n",
            "[LightGBM] [Warning] No further splits with positive gain, best gain: -inf\n",
            "[LightGBM] [Warning] No further splits with positive gain, best gain: -inf\n",
            "[LightGBM] [Warning] No further splits with positive gain, best gain: -inf\n",
            "[LightGBM] [Warning] No further splits with positive gain, best gain: -inf\n",
            "[LightGBM] [Warning] No further splits with positive gain, best gain: -inf\n",
            "[LightGBM] [Warning] No further splits with positive gain, best gain: -inf\n",
            "[LightGBM] [Warning] No further splits with positive gain, best gain: -inf\n",
            "[LightGBM] [Warning] No further splits with positive gain, best gain: -inf\n",
            "[LightGBM] [Warning] No further splits with positive gain, best gain: -inf\n",
            "[LightGBM] [Warning] No further splits with positive gain, best gain: -inf\n",
            "[LightGBM] [Warning] No further splits with positive gain, best gain: -inf\n",
            "[LightGBM] [Warning] No further splits with positive gain, best gain: -inf\n",
            "[LightGBM] [Warning] No further splits with positive gain, best gain: -inf\n",
            "[LightGBM] [Warning] No further splits with positive gain, best gain: -inf\n",
            "[LightGBM] [Warning] No further splits with positive gain, best gain: -inf\n",
            "[LightGBM] [Warning] No further splits with positive gain, best gain: -inf\n",
            "[LightGBM] [Warning] No further splits with positive gain, best gain: -inf\n",
            "[LightGBM] [Warning] No further splits with positive gain, best gain: -inf\n",
            "[LightGBM] [Warning] No further splits with positive gain, best gain: -inf\n",
            "[LightGBM] [Warning] No further splits with positive gain, best gain: -inf\n",
            "[LightGBM] [Warning] No further splits with positive gain, best gain: -inf\n",
            "[LightGBM] [Warning] No further splits with positive gain, best gain: -inf\n",
            "[LightGBM] [Warning] No further splits with positive gain, best gain: -inf\n",
            "[LightGBM] [Warning] No further splits with positive gain, best gain: -inf\n",
            "[LightGBM] [Warning] No further splits with positive gain, best gain: -inf\n"
          ]
        }
      ]
    },
    {
      "cell_type": "code",
      "source": [
        "from sklearn.metrics import accuracy_score, precision_score, recall_score, f1_score, confusion_matrix\n",
        "\n",
        "# 성능 평가를 위해 예측 값을 반올림\n",
        "round_valid_y = valid_y.astype(\"int\")\n",
        "round_y_pred = np.round(y_pred)\n",
        "print(\"confusion_matrix\\n\", confusion_matrix(round_valid_y, round_y_pred))\n",
        "print(f\"accuracy\\t: {accuracy_score(round_valid_y, round_y_pred): .5f}\")\n",
        "print(f\"precision\\t: {precision_score(round_valid_y, round_y_pred): .5f}\")\n",
        "print(f\"recall\\t\\t: {recall_score(round_valid_y, round_y_pred): .5f}\")\n",
        "print(f\"F-1\\t\\t: {f1_score(round_valid_y, round_y_pred): .5f}\")"
      ],
      "metadata": {
        "id": "oXeWkKCwxTG9",
        "colab": {
          "base_uri": "https://localhost:8080/"
        },
        "outputId": "42802e76-b262-4fb6-9510-df2ee34f6c91"
      },
      "execution_count": 26,
      "outputs": [
        {
          "output_type": "stream",
          "name": "stdout",
          "text": [
            "confusion_matrix\n",
            " [[190374    117]\n",
            " [   105 135367]]\n",
            "accuracy\t:  0.99932\n",
            "precision\t:  0.99914\n",
            "recall\t\t:  0.99922\n",
            "F-1\t\t:  0.99918\n"
          ]
        }
      ]
    },
    {
      "cell_type": "markdown",
      "metadata": {
        "id": "GLH_pLPMwXt3"
      },
      "source": [
        "# 4. IP voting"
      ]
    },
    {
      "cell_type": "markdown",
      "metadata": {
        "id": "rdlCNZT3wXt3"
      },
      "source": [
        "실제 성능평가는 IP기준으로 해야하기 때문에 flow 기반 예측결과를 이용하여 IP votiong을 진행합니다."
      ]
    },
    {
      "cell_type": "code",
      "execution_count": 27,
      "metadata": {
        "id": "IgtobE2nHDT_"
      },
      "outputs": [],
      "source": [
        "# 정상 외부 IP set\n",
        "outer_benignIP_set = open_pickle(\"./outer_benign_IP_train.pkl\")\n",
        "# 악성 외부 IP set\n",
        "outer_malIP_set = open_pickle(\"./outer_mal_IP_train.pkl\")"
      ]
    },
    {
      "cell_type": "code",
      "execution_count": 28,
      "metadata": {
        "id": "bE6629FQHDUA",
        "scrolled": true,
        "colab": {
          "base_uri": "https://localhost:8080/"
        },
        "outputId": "5409b4b9-74d6-43ea-c213-4970ed6f5e23"
      },
      "outputs": [
        {
          "output_type": "execute_result",
          "data": {
            "text/plain": [
              "(590, 457)"
            ]
          },
          "metadata": {},
          "execution_count": 28
        }
      ],
      "source": [
        "#외부 IP의 악성, 정상 개수 확인\n",
        "len(outer_benignIP_set), len(outer_malIP_set)"
      ]
    },
    {
      "cell_type": "code",
      "execution_count": 29,
      "metadata": {
        "id": "FVlf70mIHDUA"
      },
      "outputs": [],
      "source": [
        "# Problem #3을 위해 dictionary형태로 변경\n",
        "labelIP_dict = dict()\n",
        "\n",
        "for ip in outer_benignIP_set:\n",
        "    labelIP_dict[ip] = 0\n",
        "for ip in outer_malIP_set:\n",
        "    labelIP_dict[ip] = 1"
      ]
    },
    {
      "cell_type": "code",
      "source": [
        "def group_external_ip(df, external_IP):\n",
        "    df.rename(columns={'Src IP':'src_ip','Dst IP':'dst_ip'}, inplace=True)\n",
        "    external_IP_group = {}\n",
        "    for row in df.itertuples():\n",
        "          src_ip = row.src_ip\n",
        "          dst_ip = row.dst_ip\n",
        "\n",
        "          if src_ip in external_IP:\n",
        "            if src_ip in external_IP_group:\n",
        "              external_IP_group[src_ip].append(row)\n",
        "            else:\n",
        "              external_IP_group[src_ip] = [row]\n",
        "          else:\n",
        "            if dst_ip in external_IP_group:\n",
        "              external_IP_group[dst_ip].append(row)\n",
        "            else:\n",
        "              external_IP_group[dst_ip] = [row]\n",
        "\n",
        "    return external_IP_group"
      ],
      "metadata": {
        "id": "8MwRAN_ZUYYC"
      },
      "execution_count": 30,
      "outputs": []
    },
    {
      "cell_type": "code",
      "source": [
        "def predict_external_ip(external_IP_group, y_pred, proportion = 0.65):\n",
        "    predictIP_dict = {}\n",
        "\n",
        "    for key, values in external_IP_group.items():\n",
        "        predictIP_dict[key] = 0\n",
        "        cnt = 0\n",
        "\n",
        "        for value in values:\n",
        "            if y_pred[value.Index] == 1:\n",
        "                cnt += 1\n",
        "                if cnt / float(len(values)) >= proportion:\n",
        "                    predictIP_dict[key] = 1\n",
        "                    break\n",
        "    return predictIP_dict"
      ],
      "metadata": {
        "id": "v_Ofn3wQU8wl"
      },
      "execution_count": 31,
      "outputs": []
    },
    {
      "cell_type": "code",
      "source": [
        "predictIP_dict = dict()\n",
        "external_IP =list(labelIP_dict.keys())\n",
        "external_IP_group = group_external_ip(valid_df, external_IP)\n",
        "predictIP_dict = predict_external_ip(external_IP_group, y_pred, proportion = 0.65)"
      ],
      "metadata": {
        "id": "o-HCGYf_Vp-y"
      },
      "execution_count": 32,
      "outputs": []
    },
    {
      "cell_type": "code",
      "execution_count": 33,
      "metadata": {
        "id": "ss6PiboDHDUB",
        "scrolled": true,
        "colab": {
          "base_uri": "https://localhost:8080/"
        },
        "outputId": "94c63300-844a-4cdf-d55b-f0c8ba5059fc"
      },
      "outputs": [
        {
          "output_type": "stream",
          "name": "stdout",
          "text": [
            "confusion_matrix\n",
            " [[587   3]\n",
            " [  1 456]]\n",
            "accuracy\t:  0.99618\n",
            "precision\t:  0.99346\n",
            "recall\t\t:  0.99781\n",
            "F-1\t\t:  0.99563\n"
          ]
        }
      ],
      "source": [
        "pred_IP = []\n",
        "label_IP = []\n",
        "\n",
        "for k in predictIP_dict.keys():\n",
        "    pred_IP.append(1 if predictIP_dict[k] == 1 else 0)\n",
        "    label_IP.append(labelIP_dict[k])\n",
        "\n",
        "print(\"confusion_matrix\\n\", confusion_matrix(label_IP, pred_IP))\n",
        "print(f\"accuracy\\t: {accuracy_score(label_IP, pred_IP): .5f}\")\n",
        "print(f\"precision\\t: {precision_score(label_IP, pred_IP): .5f}\")\n",
        "print(f\"recall\\t\\t: {recall_score(label_IP, pred_IP): .5f}\")\n",
        "print(f\"F-1\\t\\t: {f1_score(label_IP, pred_IP): .5f}\")"
      ]
    },
    {
      "cell_type": "markdown",
      "metadata": {
        "id": "dwa7yEb9wXt4"
      },
      "source": [
        "# 5. 제출 csv 생성"
      ]
    },
    {
      "cell_type": "code",
      "source": [
        "%cd \"/content/drive/MyDrive/정보보호와시스템보안\""
      ],
      "metadata": {
        "colab": {
          "base_uri": "https://localhost:8080/"
        },
        "id": "njlElKEMn7Lk",
        "outputId": "6f9f1db7-bae7-4df0-a974-a7f44c81c00a"
      },
      "execution_count": 34,
      "outputs": [
        {
          "output_type": "stream",
          "name": "stdout",
          "text": [
            "/content/drive/MyDrive/정보보호와시스템보안\n"
          ]
        }
      ]
    },
    {
      "cell_type": "code",
      "execution_count": 35,
      "metadata": {
        "id": "E49evW25wXt4"
      },
      "outputs": [],
      "source": [
        "test_path = r\"/content/drive/MyDrive/정보보호와시스템보안/test.csv\"\n",
        "test_df = pd.read_csv(test_path)"
      ]
    },
    {
      "cell_type": "code",
      "execution_count": 36,
      "metadata": {
        "id": "NzhvAylcwXt4"
      },
      "outputs": [],
      "source": [
        "test_expt = preprocess_dataset(test_df)\n",
        "test_expt = test_df.drop(except_col, axis = 1)\n",
        "test_list = test_expt.values.tolist()"
      ]
    },
    {
      "cell_type": "code",
      "execution_count": 37,
      "metadata": {
        "id": "hO5sSoI8wXt5"
      },
      "outputs": [],
      "source": [
        "test_X = normalizer.transform(test_list)"
      ]
    },
    {
      "cell_type": "code",
      "execution_count": 38,
      "metadata": {
        "id": "-g91N3dywXt5",
        "colab": {
          "base_uri": "https://localhost:8080/"
        },
        "outputId": "0e0cf649-f65d-49d1-cff4-c7041d9c2b1c"
      },
      "outputs": [
        {
          "output_type": "stream",
          "name": "stdout",
          "text": [
            "325963\n"
          ]
        }
      ],
      "source": [
        "test_X = test_X.astype(np.float32)\n",
        "print(len(test_X))"
      ]
    },
    {
      "cell_type": "code",
      "execution_count": 39,
      "metadata": {
        "id": "1Jlmc7wywXt5"
      },
      "outputs": [],
      "source": [
        "# y_pred_test = rfc.predict(test_X)\n",
        "y_pred_test = lgbmc.predict(test_X)"
      ]
    },
    {
      "cell_type": "code",
      "source": [
        "test_y = [0 if i == \"Benign_IP\" else 1 for i in test_df['Label']]\n",
        "test_y = np.array(test_y, dtype=np.float32)"
      ],
      "metadata": {
        "id": "PcZXjMY__c0m"
      },
      "execution_count": 40,
      "outputs": []
    },
    {
      "cell_type": "code",
      "source": [
        "from sklearn.metrics import accuracy_score, precision_score, recall_score, f1_score, confusion_matrix\n",
        "\n",
        "# 성능 평가를 위해 예측 값을 반올림\n",
        "round_test_y = test_y.astype(\"int\")\n",
        "round_y_pred = np.round(y_pred_test)\n",
        "print(\"confusion_matrix\\n\", confusion_matrix(round_test_y, round_y_pred))\n",
        "print(f\"accuracy\\t: {accuracy_score(round_test_y, round_y_pred): .5f}\")\n",
        "print(f\"precision\\t: {precision_score(round_test_y, round_y_pred): .5f}\")\n",
        "print(f\"recall\\t\\t: {recall_score(round_test_y, round_y_pred): .5f}\")\n",
        "print(f\"F-1\\t\\t: {f1_score(round_test_y, round_y_pred): .5f}\")"
      ],
      "metadata": {
        "colab": {
          "base_uri": "https://localhost:8080/"
        },
        "id": "gEQ_rQLIok7x",
        "outputId": "ad3c68a7-e88a-44ea-b525-9a1621288d14"
      },
      "execution_count": 41,
      "outputs": [
        {
          "output_type": "stream",
          "name": "stdout",
          "text": [
            "confusion_matrix\n",
            " [[190374    117]\n",
            " [   105 135367]]\n",
            "accuracy\t:  0.99932\n",
            "precision\t:  0.99914\n",
            "recall\t\t:  0.99922\n",
            "F-1\t\t:  0.99918\n"
          ]
        }
      ]
    },
    {
      "cell_type": "code",
      "execution_count": 42,
      "metadata": {
        "id": "Uq750fJ-wXt5"
      },
      "outputs": [],
      "source": [
        "outer_test_all = open_pickle(\"./outer_IP_test_all.pkl\")"
      ]
    },
    {
      "cell_type": "code",
      "execution_count": 43,
      "metadata": {
        "id": "5nbenayNwXt5",
        "colab": {
          "base_uri": "https://localhost:8080/"
        },
        "outputId": "ed9b5bf7-e6e9-40ff-9c4f-082b7d434c7a"
      },
      "outputs": [
        {
          "output_type": "execute_result",
          "data": {
            "text/plain": [
              "1047"
            ]
          },
          "metadata": {},
          "execution_count": 43
        }
      ],
      "source": [
        "len(outer_test_all)"
      ]
    },
    {
      "cell_type": "code",
      "execution_count": 44,
      "metadata": {
        "id": "1CZKzFKswXt6",
        "colab": {
          "base_uri": "https://localhost:8080/"
        },
        "outputId": "b2e31156-495d-49a6-ae0f-af5d6d87c998"
      },
      "outputs": [
        {
          "output_type": "stream",
          "name": "stdout",
          "text": [
            "1047\n"
          ]
        }
      ],
      "source": [
        "labelIP_dict = dict()\n",
        "\n",
        "for ip in outer_benignIP_set:\n",
        "    labelIP_dict[ip] = 0\n",
        "for ip in outer_malIP_set:\n",
        "    labelIP_dict[ip] = 1\n",
        "\n",
        "print(len(labelIP_dict))"
      ]
    },
    {
      "cell_type": "code",
      "execution_count": 49,
      "metadata": {
        "id": "PzWMZYlewXt6",
        "colab": {
          "base_uri": "https://localhost:8080/"
        },
        "outputId": "f7e7a4ff-c7e0-4ace-92b3-31bd307026bf"
      },
      "outputs": [
        {
          "output_type": "stream",
          "name": "stdout",
          "text": [
            "1047\n"
          ]
        }
      ],
      "source": [
        "predictIP_dict_test = dict()\n",
        "external_IP_test =list(labelIP_dict.keys())\n",
        "external_IP_group = group_external_ip(test_df, external_IP_test)\n",
        "predictIP_dict_test = predict_external_ip(external_IP_group, y_pred_test, proportion = 0.65)\n",
        "\n",
        "pred_IP = []\n",
        "label_IP = []\n",
        "\n",
        "print(len(predictIP_dict_test))"
      ]
    },
    {
      "cell_type": "code",
      "source": [
        "for k in predictIP_dict_test.keys():\n",
        "    pred_IP.append(1 if predictIP_dict_test[k] == 1 else 0)\n",
        "    label_IP.append(labelIP_dict[k])\n",
        "\n",
        "print(\"confusion_matrix\\n\", confusion_matrix(label_IP, pred_IP))\n",
        "print(f\"accuracy\\t: {accuracy_score(label_IP, pred_IP): .5f}\")\n",
        "print(f\"precision\\t: {precision_score(label_IP, pred_IP): .5f}\")\n",
        "print(f\"recall\\t\\t: {recall_score(label_IP, pred_IP): .5f}\")\n",
        "print(f\"F-1\\t\\t: {f1_score(label_IP, pred_IP): .5f}\")"
      ],
      "metadata": {
        "id": "OE7ESCSXuBnj",
        "colab": {
          "base_uri": "https://localhost:8080/"
        },
        "outputId": "85a5b8d2-3740-4cef-88b2-f0601d7e845b"
      },
      "execution_count": 50,
      "outputs": [
        {
          "output_type": "stream",
          "name": "stdout",
          "text": [
            "confusion_matrix\n",
            " [[587   3]\n",
            " [  1 456]]\n",
            "accuracy\t:  0.99618\n",
            "precision\t:  0.99346\n",
            "recall\t\t:  0.99781\n",
            "F-1\t\t:  0.99563\n"
          ]
        }
      ]
    },
    {
      "cell_type": "code",
      "execution_count": 51,
      "metadata": {
        "id": "6lwu08cJwXt6",
        "colab": {
          "base_uri": "https://localhost:8080/"
        },
        "outputId": "65880651-8606-4d30-9d8b-56dfe56aaa4a"
      },
      "outputs": [
        {
          "output_type": "execute_result",
          "data": {
            "text/plain": [
              "1047"
            ]
          },
          "metadata": {},
          "execution_count": 51
        }
      ],
      "source": [
        "len(predictIP_dict_test)"
      ]
    },
    {
      "cell_type": "code",
      "execution_count": 52,
      "metadata": {
        "id": "RpdwlujswXt6"
      },
      "outputs": [],
      "source": [
        "import csv\n",
        "csv_file = './test_result.csv'\n",
        "with open(csv_file, 'w', newline='') as file:\n",
        "    writer = csv.writer(file)\n",
        "\n",
        "    header = [\"IP\", \"predict\"]\n",
        "    writer.writerow(header)\n",
        "\n",
        "    for key, value in predictIP_dict_test.items():\n",
        "        writer.writerow([key, value])"
      ]
    },
    {
      "cell_type": "code",
      "execution_count": 48,
      "metadata": {
        "id": "YRPwaIPqwXt6"
      },
      "outputs": [],
      "source": []
    }
  ],
  "metadata": {
    "accelerator": "GPU",
    "colab": {
      "provenance": []
    },
    "gpuClass": "standard",
    "kernelspec": {
      "display_name": "tmp",
      "language": "python",
      "name": "python3"
    },
    "language_info": {
      "codemirror_mode": {
        "name": "ipython",
        "version": 3
      },
      "file_extension": ".py",
      "mimetype": "text/x-python",
      "name": "python",
      "nbconvert_exporter": "python",
      "pygments_lexer": "ipython3",
      "version": "3.10.13"
    }
  },
  "nbformat": 4,
  "nbformat_minor": 0
}